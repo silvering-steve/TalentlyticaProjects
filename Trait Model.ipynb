{
 "cells": [
  {
   "cell_type": "code",
   "execution_count": 1,
   "metadata": {
    "collapsed": true,
    "pycharm": {
     "name": "#%%\n"
    }
   },
   "outputs": [],
   "source": [
    "import re\n",
    "import keras.models\n",
    "import spacy\n",
    "import fitz\n",
    "import pandas as pd\n",
    "import matplotlib.pyplot as plt\n",
    "import seaborn as sns\n",
    "import numpy as np\n",
    "import tensorflow as tf\n",
    "from tensorflow.keras.preprocessing.text import Tokenizer\n",
    "from tensorflow.keras.preprocessing.sequence import pad_sequences\n",
    "from scipy.stats import norm\n",
    "from sklearn.preprocessing import StandardScaler\n",
    "from scipy import stats\n",
    "\n",
    "nlp = spacy.load('model/model_job')"
   ]
  },
  {
   "cell_type": "code",
   "execution_count": 2,
   "outputs": [],
   "source": [
    "def extract_text(filePath, remove_line=False):\n",
    "    with fitz.open(filePath) as doc:\n",
    "        finaltext = \"\"\n",
    "        for page in doc:\n",
    "            text = page.get_text()\n",
    "            text = text.replace(\"\\n\",\" \")\n",
    "            text = text.replace(\"[^a-zA-Z0-9]\", \" \");\n",
    "            text = re.sub('\\W+',' ', text)\n",
    "            text = re.sub('[^A-Za-z0-9]',' ', text)\n",
    "            finaltext += text\n",
    "\n",
    "        if remove_line:\n",
    "            finaltext = text = re.sub('\\s', \" \", text)\n",
    "\n",
    "    return finaltext\n",
    "\n",
    "def extract_job(text, nlp):\n",
    "    doc = nlp(text)\n",
    "\n",
    "    job = set()\n",
    "\n",
    "    for a in doc.ents:\n",
    "        job.add(str(a).lower())\n",
    "\n",
    "    return job\n",
    "\n",
    "def seq_and_pad(sentences, tokenizer):\n",
    "    sequences = tokenizer.texts_to_sequences(sentences)\n",
    "\n",
    "    padded_sequences = pad_sequences(sequences, maxlen=30, padding='post')\n",
    "\n",
    "\n",
    "    return padded_sequences"
   ],
   "metadata": {
    "collapsed": false,
    "pycharm": {
     "name": "#%%\n"
    }
   }
  },
  {
   "cell_type": "code",
   "execution_count": 3,
   "outputs": [
    {
     "data": {
      "text/plain": "   Unnamed: 0                          Email  \\\n0           1  ariefwijayakusuma96@gmail.com   \n1           2            atkamliaa@gmail.com   \n2           3      deri45anggraini@gmail.com   \n3           4      elisabethda1994@gmail.com   \n4           5        jordyrevindra@gmail.com   \n\n                                                 key             Nama Peserta  \\\n0   network administrator permanent address custo...      Arief Wijaya Kusuma   \n1   human capital trainer credit assistant market...            Atikah Amalia   \n2   commissioner deputy head of public relations ...     Deri Firma Anggraini   \n3                hrd staff hr human capital student   Elisabeth Dwi Anggraeni   \n4   head division of public relations business pr...    Jordy Revindra Priana   \n\n   MD  MI  MS  MC  LD  LI  ...  KERJASAMA  KETERAMPILAN_INTERPERSONAL  \\\n0   6   3   2   8   5   5  ...          2                           2   \n1   7   3   2   6   4   5  ...          3                           2   \n2   8   2   3   7   4   4  ...          3                           2   \n3   8   3   2   5   4   5  ...          3                           2   \n4   5   4   3   7   5   5  ...          3                           3   \n\n   LOGIKA_BERPIKIR  MOTIVASI_BERPRESTASI  ORIENTASI_HASIL  \\\n0                4                     3                3   \n1                2                     3                2   \n2                5                     3                3   \n3                5                     3                3   \n4                2                     2                2   \n\n   PENYELESAIAN_MASALAH SISTEMATIKA_KERJA pil_jabatan prosen_kecocokan  \\\n0                     4                 3     standar              92%   \n1                     3                 2     standar              79%   \n2                     3                 3     standar              95%   \n3                     4                 3     standar              95%   \n4                     3                 3     standar              85%   \n\n  hasil_rekomendasi  \n0        Disarankan  \n1   Dipertimbangkan  \n2        Disarankan  \n3        Disarankan  \n4        Disarankan  \n\n[5 rows x 68 columns]",
      "text/html": "<div>\n<style scoped>\n    .dataframe tbody tr th:only-of-type {\n        vertical-align: middle;\n    }\n\n    .dataframe tbody tr th {\n        vertical-align: top;\n    }\n\n    .dataframe thead th {\n        text-align: right;\n    }\n</style>\n<table border=\"1\" class=\"dataframe\">\n  <thead>\n    <tr style=\"text-align: right;\">\n      <th></th>\n      <th>Unnamed: 0</th>\n      <th>Email</th>\n      <th>key</th>\n      <th>Nama Peserta</th>\n      <th>MD</th>\n      <th>MI</th>\n      <th>MS</th>\n      <th>MC</th>\n      <th>LD</th>\n      <th>LI</th>\n      <th>...</th>\n      <th>KERJASAMA</th>\n      <th>KETERAMPILAN_INTERPERSONAL</th>\n      <th>LOGIKA_BERPIKIR</th>\n      <th>MOTIVASI_BERPRESTASI</th>\n      <th>ORIENTASI_HASIL</th>\n      <th>PENYELESAIAN_MASALAH</th>\n      <th>SISTEMATIKA_KERJA</th>\n      <th>pil_jabatan</th>\n      <th>prosen_kecocokan</th>\n      <th>hasil_rekomendasi</th>\n    </tr>\n  </thead>\n  <tbody>\n    <tr>\n      <th>0</th>\n      <td>1</td>\n      <td>ariefwijayakusuma96@gmail.com</td>\n      <td>network administrator permanent address custo...</td>\n      <td>Arief Wijaya Kusuma</td>\n      <td>6</td>\n      <td>3</td>\n      <td>2</td>\n      <td>8</td>\n      <td>5</td>\n      <td>5</td>\n      <td>...</td>\n      <td>2</td>\n      <td>2</td>\n      <td>4</td>\n      <td>3</td>\n      <td>3</td>\n      <td>4</td>\n      <td>3</td>\n      <td>standar</td>\n      <td>92%</td>\n      <td>Disarankan</td>\n    </tr>\n    <tr>\n      <th>1</th>\n      <td>2</td>\n      <td>atkamliaa@gmail.com</td>\n      <td>human capital trainer credit assistant market...</td>\n      <td>Atikah Amalia</td>\n      <td>7</td>\n      <td>3</td>\n      <td>2</td>\n      <td>6</td>\n      <td>4</td>\n      <td>5</td>\n      <td>...</td>\n      <td>3</td>\n      <td>2</td>\n      <td>2</td>\n      <td>3</td>\n      <td>2</td>\n      <td>3</td>\n      <td>2</td>\n      <td>standar</td>\n      <td>79%</td>\n      <td>Dipertimbangkan</td>\n    </tr>\n    <tr>\n      <th>2</th>\n      <td>3</td>\n      <td>deri45anggraini@gmail.com</td>\n      <td>commissioner deputy head of public relations ...</td>\n      <td>Deri Firma Anggraini</td>\n      <td>8</td>\n      <td>2</td>\n      <td>3</td>\n      <td>7</td>\n      <td>4</td>\n      <td>4</td>\n      <td>...</td>\n      <td>3</td>\n      <td>2</td>\n      <td>5</td>\n      <td>3</td>\n      <td>3</td>\n      <td>3</td>\n      <td>3</td>\n      <td>standar</td>\n      <td>95%</td>\n      <td>Disarankan</td>\n    </tr>\n    <tr>\n      <th>3</th>\n      <td>4</td>\n      <td>elisabethda1994@gmail.com</td>\n      <td>hrd staff hr human capital student</td>\n      <td>Elisabeth Dwi Anggraeni</td>\n      <td>8</td>\n      <td>3</td>\n      <td>2</td>\n      <td>5</td>\n      <td>4</td>\n      <td>5</td>\n      <td>...</td>\n      <td>3</td>\n      <td>2</td>\n      <td>5</td>\n      <td>3</td>\n      <td>3</td>\n      <td>4</td>\n      <td>3</td>\n      <td>standar</td>\n      <td>95%</td>\n      <td>Disarankan</td>\n    </tr>\n    <tr>\n      <th>4</th>\n      <td>5</td>\n      <td>jordyrevindra@gmail.com</td>\n      <td>head division of public relations business pr...</td>\n      <td>Jordy Revindra Priana</td>\n      <td>5</td>\n      <td>4</td>\n      <td>3</td>\n      <td>7</td>\n      <td>5</td>\n      <td>5</td>\n      <td>...</td>\n      <td>3</td>\n      <td>3</td>\n      <td>2</td>\n      <td>2</td>\n      <td>2</td>\n      <td>3</td>\n      <td>3</td>\n      <td>standar</td>\n      <td>85%</td>\n      <td>Disarankan</td>\n    </tr>\n  </tbody>\n</table>\n<p>5 rows × 68 columns</p>\n</div>"
     },
     "execution_count": 3,
     "metadata": {},
     "output_type": "execute_result"
    }
   ],
   "source": [
    "df = pd.read_csv('sample/train.csv')\n",
    "\n",
    "df.head()"
   ],
   "metadata": {
    "collapsed": false,
    "pycharm": {
     "name": "#%%\n"
    }
   }
  },
  {
   "cell_type": "code",
   "execution_count": 4,
   "outputs": [
    {
     "data": {
      "text/plain": "                            Email  \\\n0   ariefwijayakusuma96@gmail.com   \n1             atkamliaa@gmail.com   \n2       deri45anggraini@gmail.com   \n3       elisabethda1994@gmail.com   \n4         jordyrevindra@gmail.com   \n..                            ...   \n89          adzkiaaulia@gmail.com   \n90          davidacroos@gmail.com   \n91          deapandhita@gmail.com   \n92    dhiaulfa.thufaila@gmail.com   \n93      dwidanaribrahim@gmail.com   \n\n                                                  key  \\\n0    network administrator permanent address custo...   \n1    human capital trainer credit assistant market...   \n2    commissioner deputy head of public relations ...   \n3                 hrd staff hr human capital student    \n4    head division of public relations business pr...   \n..                                                ...   \n89   secretary supporting services intern facilita...   \n90   frontliner admin data entry operations manage...   \n91   logistic administration staff secretary senio...   \n92   human resources management financial manager ...   \n93   project management communication management h...   \n\n                 Nama Peserta  MD  MI  MS  MC  LD  LI  LS  ...  KERJASAMA  \\\n0         Arief Wijaya Kusuma   6   3   2   8   5   5   6  ...          2   \n1               Atikah Amalia   7   3   2   6   4   5   5  ...          3   \n2        Deri Firma Anggraini   8   2   3   7   4   4   5  ...          3   \n3     Elisabeth Dwi Anggraeni   8   3   2   5   4   5   6  ...          3   \n4       Jordy Revindra Priana   5   4   3   7   5   5   5  ...          3   \n..                        ...  ..  ..  ..  ..  ..  ..  ..  ...        ...   \n89         Aulia Adzkia Fauzi   7   2   2   6   5   6   4  ...          2   \n90              David Pratama  10   2   3   4   9   6   4  ...          3   \n91  Regina Dea Pandhita Putri   6   3   4   6   5   6   6  ...          3   \n92          Dhiaulfa Thufaila   5   2   0   9   4   6   4  ...          2   \n93          DWI DANAR IBRAHIM   9   3   3   4   5   4   8  ...          2   \n\n    KETERAMPILAN_INTERPERSONAL  LOGIKA_BERPIKIR  MOTIVASI_BERPRESTASI  \\\n0                            2                4                     3   \n1                            2                2                     3   \n2                            2                5                     3   \n3                            2                5                     3   \n4                            3                2                     2   \n..                         ...              ...                   ...   \n89                           2                4                     3   \n90                           3                3                     3   \n91                           2                3                     3   \n92                           2                2                     3   \n93                           3                4                     2   \n\n    ORIENTASI_HASIL PENYELESAIAN_MASALAH SISTEMATIKA_KERJA pil_jabatan  \\\n0                 3                    4                 3     standar   \n1                 2                    3                 2     standar   \n2                 3                    3                 3     standar   \n3                 3                    4                 3     standar   \n4                 2                    3                 3     standar   \n..              ...                  ...               ...         ...   \n89                4                    4                 3     standar   \n90                3                    4                 2     standar   \n91                3                    3                 3     standar   \n92                3                    4                 3     standar   \n93                3                    3                 3     standar   \n\n   prosen_kecocokan  hasil_rekomendasi  \n0               92%         Disarankan  \n1               79%    Dipertimbangkan  \n2               95%         Disarankan  \n3               95%         Disarankan  \n4               85%         Disarankan  \n..              ...                ...  \n89              92%         Disarankan  \n90              95%         Disarankan  \n91              95%         Disarankan  \n92              87%         Disarankan  \n93              92%         Disarankan  \n\n[94 rows x 67 columns]",
      "text/html": "<div>\n<style scoped>\n    .dataframe tbody tr th:only-of-type {\n        vertical-align: middle;\n    }\n\n    .dataframe tbody tr th {\n        vertical-align: top;\n    }\n\n    .dataframe thead th {\n        text-align: right;\n    }\n</style>\n<table border=\"1\" class=\"dataframe\">\n  <thead>\n    <tr style=\"text-align: right;\">\n      <th></th>\n      <th>Email</th>\n      <th>key</th>\n      <th>Nama Peserta</th>\n      <th>MD</th>\n      <th>MI</th>\n      <th>MS</th>\n      <th>MC</th>\n      <th>LD</th>\n      <th>LI</th>\n      <th>LS</th>\n      <th>...</th>\n      <th>KERJASAMA</th>\n      <th>KETERAMPILAN_INTERPERSONAL</th>\n      <th>LOGIKA_BERPIKIR</th>\n      <th>MOTIVASI_BERPRESTASI</th>\n      <th>ORIENTASI_HASIL</th>\n      <th>PENYELESAIAN_MASALAH</th>\n      <th>SISTEMATIKA_KERJA</th>\n      <th>pil_jabatan</th>\n      <th>prosen_kecocokan</th>\n      <th>hasil_rekomendasi</th>\n    </tr>\n  </thead>\n  <tbody>\n    <tr>\n      <th>0</th>\n      <td>ariefwijayakusuma96@gmail.com</td>\n      <td>network administrator permanent address custo...</td>\n      <td>Arief Wijaya Kusuma</td>\n      <td>6</td>\n      <td>3</td>\n      <td>2</td>\n      <td>8</td>\n      <td>5</td>\n      <td>5</td>\n      <td>6</td>\n      <td>...</td>\n      <td>2</td>\n      <td>2</td>\n      <td>4</td>\n      <td>3</td>\n      <td>3</td>\n      <td>4</td>\n      <td>3</td>\n      <td>standar</td>\n      <td>92%</td>\n      <td>Disarankan</td>\n    </tr>\n    <tr>\n      <th>1</th>\n      <td>atkamliaa@gmail.com</td>\n      <td>human capital trainer credit assistant market...</td>\n      <td>Atikah Amalia</td>\n      <td>7</td>\n      <td>3</td>\n      <td>2</td>\n      <td>6</td>\n      <td>4</td>\n      <td>5</td>\n      <td>5</td>\n      <td>...</td>\n      <td>3</td>\n      <td>2</td>\n      <td>2</td>\n      <td>3</td>\n      <td>2</td>\n      <td>3</td>\n      <td>2</td>\n      <td>standar</td>\n      <td>79%</td>\n      <td>Dipertimbangkan</td>\n    </tr>\n    <tr>\n      <th>2</th>\n      <td>deri45anggraini@gmail.com</td>\n      <td>commissioner deputy head of public relations ...</td>\n      <td>Deri Firma Anggraini</td>\n      <td>8</td>\n      <td>2</td>\n      <td>3</td>\n      <td>7</td>\n      <td>4</td>\n      <td>4</td>\n      <td>5</td>\n      <td>...</td>\n      <td>3</td>\n      <td>2</td>\n      <td>5</td>\n      <td>3</td>\n      <td>3</td>\n      <td>3</td>\n      <td>3</td>\n      <td>standar</td>\n      <td>95%</td>\n      <td>Disarankan</td>\n    </tr>\n    <tr>\n      <th>3</th>\n      <td>elisabethda1994@gmail.com</td>\n      <td>hrd staff hr human capital student</td>\n      <td>Elisabeth Dwi Anggraeni</td>\n      <td>8</td>\n      <td>3</td>\n      <td>2</td>\n      <td>5</td>\n      <td>4</td>\n      <td>5</td>\n      <td>6</td>\n      <td>...</td>\n      <td>3</td>\n      <td>2</td>\n      <td>5</td>\n      <td>3</td>\n      <td>3</td>\n      <td>4</td>\n      <td>3</td>\n      <td>standar</td>\n      <td>95%</td>\n      <td>Disarankan</td>\n    </tr>\n    <tr>\n      <th>4</th>\n      <td>jordyrevindra@gmail.com</td>\n      <td>head division of public relations business pr...</td>\n      <td>Jordy Revindra Priana</td>\n      <td>5</td>\n      <td>4</td>\n      <td>3</td>\n      <td>7</td>\n      <td>5</td>\n      <td>5</td>\n      <td>5</td>\n      <td>...</td>\n      <td>3</td>\n      <td>3</td>\n      <td>2</td>\n      <td>2</td>\n      <td>2</td>\n      <td>3</td>\n      <td>3</td>\n      <td>standar</td>\n      <td>85%</td>\n      <td>Disarankan</td>\n    </tr>\n    <tr>\n      <th>...</th>\n      <td>...</td>\n      <td>...</td>\n      <td>...</td>\n      <td>...</td>\n      <td>...</td>\n      <td>...</td>\n      <td>...</td>\n      <td>...</td>\n      <td>...</td>\n      <td>...</td>\n      <td>...</td>\n      <td>...</td>\n      <td>...</td>\n      <td>...</td>\n      <td>...</td>\n      <td>...</td>\n      <td>...</td>\n      <td>...</td>\n      <td>...</td>\n      <td>...</td>\n      <td>...</td>\n    </tr>\n    <tr>\n      <th>89</th>\n      <td>adzkiaaulia@gmail.com</td>\n      <td>secretary supporting services intern facilita...</td>\n      <td>Aulia Adzkia Fauzi</td>\n      <td>7</td>\n      <td>2</td>\n      <td>2</td>\n      <td>6</td>\n      <td>5</td>\n      <td>6</td>\n      <td>4</td>\n      <td>...</td>\n      <td>2</td>\n      <td>2</td>\n      <td>4</td>\n      <td>3</td>\n      <td>4</td>\n      <td>4</td>\n      <td>3</td>\n      <td>standar</td>\n      <td>92%</td>\n      <td>Disarankan</td>\n    </tr>\n    <tr>\n      <th>90</th>\n      <td>davidacroos@gmail.com</td>\n      <td>frontliner admin data entry operations manage...</td>\n      <td>David Pratama</td>\n      <td>10</td>\n      <td>2</td>\n      <td>3</td>\n      <td>4</td>\n      <td>9</td>\n      <td>6</td>\n      <td>4</td>\n      <td>...</td>\n      <td>3</td>\n      <td>3</td>\n      <td>3</td>\n      <td>3</td>\n      <td>3</td>\n      <td>4</td>\n      <td>2</td>\n      <td>standar</td>\n      <td>95%</td>\n      <td>Disarankan</td>\n    </tr>\n    <tr>\n      <th>91</th>\n      <td>deapandhita@gmail.com</td>\n      <td>logistic administration staff secretary senio...</td>\n      <td>Regina Dea Pandhita Putri</td>\n      <td>6</td>\n      <td>3</td>\n      <td>4</td>\n      <td>6</td>\n      <td>5</td>\n      <td>6</td>\n      <td>6</td>\n      <td>...</td>\n      <td>3</td>\n      <td>2</td>\n      <td>3</td>\n      <td>3</td>\n      <td>3</td>\n      <td>3</td>\n      <td>3</td>\n      <td>standar</td>\n      <td>95%</td>\n      <td>Disarankan</td>\n    </tr>\n    <tr>\n      <th>92</th>\n      <td>dhiaulfa.thufaila@gmail.com</td>\n      <td>human resources management financial manager ...</td>\n      <td>Dhiaulfa Thufaila</td>\n      <td>5</td>\n      <td>2</td>\n      <td>0</td>\n      <td>9</td>\n      <td>4</td>\n      <td>6</td>\n      <td>4</td>\n      <td>...</td>\n      <td>2</td>\n      <td>2</td>\n      <td>2</td>\n      <td>3</td>\n      <td>3</td>\n      <td>4</td>\n      <td>3</td>\n      <td>standar</td>\n      <td>87%</td>\n      <td>Disarankan</td>\n    </tr>\n    <tr>\n      <th>93</th>\n      <td>dwidanaribrahim@gmail.com</td>\n      <td>project management communication management h...</td>\n      <td>DWI DANAR IBRAHIM</td>\n      <td>9</td>\n      <td>3</td>\n      <td>3</td>\n      <td>4</td>\n      <td>5</td>\n      <td>4</td>\n      <td>8</td>\n      <td>...</td>\n      <td>2</td>\n      <td>3</td>\n      <td>4</td>\n      <td>2</td>\n      <td>3</td>\n      <td>3</td>\n      <td>3</td>\n      <td>standar</td>\n      <td>92%</td>\n      <td>Disarankan</td>\n    </tr>\n  </tbody>\n</table>\n<p>94 rows × 67 columns</p>\n</div>"
     },
     "execution_count": 4,
     "metadata": {},
     "output_type": "execute_result"
    }
   ],
   "source": [
    "df = df.loc[:, 'Email':'hasil_rekomendasi']\n",
    "df['key'] = df['key'].astype('str')\n",
    "df"
   ],
   "metadata": {
    "collapsed": false,
    "pycharm": {
     "name": "#%%\n"
    }
   }
  },
  {
   "cell_type": "code",
   "execution_count": 5,
   "outputs": [
    {
     "data": {
      "text/plain": "Index(['Email', 'key', 'Nama Peserta', 'MD', 'MI', 'MS', 'MC', 'LD', 'LI',\n       'LS', 'LC', 'CD', 'CI', 'CS', 'CC', 'Grafik1', 'Grafik2', 'Grafik3',\n       'Hasil', 'GTQ1', 'GTQ2', 'GTQ3', 'GTQ4', 'GTQ5', 'Average GTQ', 'SS1',\n       'SS2', 'SS3', 'SS4', 'Jumlah', 'IQ', 'N', 'G', 'A', 'L', 'P', 'I', 'T',\n       'V', 'X', 'S', 'B', 'O', 'R', 'D', 'C', 'Z', 'E', 'K', 'F', 'W',\n       'DAYA_ANALISA', 'FLEXIBILITAS', 'KEMAMPUAN_MEMIMPIN',\n       'KEMAMPUAN_NUMERIKAL', 'KEMAMPUAN_PERENCANAAN', 'KEMAMPUAN_VERBAL',\n       'KERJASAMA', 'KETERAMPILAN_INTERPERSONAL', 'LOGIKA_BERPIKIR',\n       'MOTIVASI_BERPRESTASI', 'ORIENTASI_HASIL', 'PENYELESAIAN_MASALAH',\n       'SISTEMATIKA_KERJA', 'pil_jabatan', 'prosen_kecocokan',\n       'hasil_rekomendasi'],\n      dtype='object')"
     },
     "execution_count": 5,
     "metadata": {},
     "output_type": "execute_result"
    }
   ],
   "source": [
    "df.columns"
   ],
   "metadata": {
    "collapsed": false,
    "pycharm": {
     "name": "#%%\n"
    }
   }
  },
  {
   "cell_type": "code",
   "execution_count": 25,
   "outputs": [],
   "source": [
    "traits = 'MD'\n",
    "\n",
    "feature = []\n",
    "label = []\n",
    "\n",
    "for i, row in df.iterrows():\n",
    "    feature.append(df.at[i, 'key'])\n",
    "    label.append(df.at[i, traits])\n",
    "\n",
    "feature_train = feature[:84]\n",
    "feature_test = feature[84:]\n",
    "\n",
    "label_train = label[:84]\n",
    "label_test = label[84:]\n",
    "\n",
    "tokenizer = Tokenizer(num_words=1000, oov_token='OOV')\n",
    "tokenizer.fit_on_texts(feature)\n",
    "\n",
    "feature_train = np.asarray(seq_and_pad(feature_train, tokenizer))\n",
    "feature_test = np.asarray(seq_and_pad(feature_test, tokenizer))\n",
    "\n",
    "label_train = np.asarray(label_train)\n",
    "label_test = np.asarray(label_test)"
   ],
   "metadata": {
    "collapsed": false,
    "pycharm": {
     "name": "#%%\n"
    }
   }
  },
  {
   "cell_type": "code",
   "execution_count": 29,
   "outputs": [
    {
     "name": "stdout",
     "output_type": "stream",
     "text": [
      "Epoch 1/100\n",
      "3/3 - 5s - loss: 6.3803 - val_loss: 7.7921 - 5s/epoch - 2s/step\n",
      "Epoch 2/100\n",
      "3/3 - 0s - loss: 6.2606 - val_loss: 7.6708 - 94ms/epoch - 31ms/step\n",
      "Epoch 3/100\n",
      "3/3 - 0s - loss: 6.1254 - val_loss: 7.5342 - 142ms/epoch - 47ms/step\n",
      "Epoch 4/100\n",
      "3/3 - 0s - loss: 5.9908 - val_loss: 7.3705 - 76ms/epoch - 25ms/step\n",
      "Epoch 5/100\n",
      "3/3 - 0s - loss: 5.8152 - val_loss: 7.1718 - 88ms/epoch - 29ms/step\n",
      "Epoch 6/100\n",
      "3/3 - 0s - loss: 5.5700 - val_loss: 6.9260 - 91ms/epoch - 30ms/step\n",
      "Epoch 7/100\n",
      "3/3 - 0s - loss: 5.3150 - val_loss: 6.6187 - 63ms/epoch - 21ms/step\n",
      "Epoch 8/100\n",
      "3/3 - 0s - loss: 4.9470 - val_loss: 6.2338 - 76ms/epoch - 25ms/step\n",
      "Epoch 9/100\n",
      "3/3 - 0s - loss: 4.5659 - val_loss: 5.7530 - 62ms/epoch - 21ms/step\n",
      "Epoch 10/100\n",
      "3/3 - 0s - loss: 4.0084 - val_loss: 5.1550 - 53ms/epoch - 18ms/step\n",
      "Epoch 11/100\n",
      "3/3 - 0s - loss: 3.3557 - val_loss: 4.4151 - 137ms/epoch - 46ms/step\n",
      "Epoch 12/100\n",
      "3/3 - 0s - loss: 2.5909 - val_loss: 3.5172 - 105ms/epoch - 35ms/step\n",
      "Epoch 13/100\n",
      "3/3 - 0s - loss: 2.0702 - val_loss: 2.6424 - 89ms/epoch - 30ms/step\n",
      "Epoch 14/100\n",
      "3/3 - 0s - loss: 1.7310 - val_loss: 2.0242 - 116ms/epoch - 39ms/step\n",
      "Epoch 15/100\n",
      "3/3 - 0s - loss: 1.6648 - val_loss: 1.8112 - 112ms/epoch - 37ms/step\n",
      "Epoch 16/100\n",
      "3/3 - 0s - loss: 1.8879 - val_loss: 1.7592 - 77ms/epoch - 26ms/step\n",
      "Epoch 17/100\n",
      "3/3 - 0s - loss: 1.8853 - val_loss: 1.8468 - 67ms/epoch - 22ms/step\n",
      "Epoch 18/100\n",
      "3/3 - 0s - loss: 1.6803 - val_loss: 1.9973 - 56ms/epoch - 19ms/step\n",
      "Epoch 19/100\n",
      "3/3 - 0s - loss: 1.5138 - val_loss: 2.2209 - 54ms/epoch - 18ms/step\n",
      "Epoch 20/100\n",
      "3/3 - 0s - loss: 1.7605 - val_loss: 2.3580 - 51ms/epoch - 17ms/step\n",
      "Epoch 21/100\n",
      "3/3 - 0s - loss: 1.7055 - val_loss: 2.4321 - 83ms/epoch - 28ms/step\n",
      "Epoch 22/100\n",
      "3/3 - 0s - loss: 1.6064 - val_loss: 2.3928 - 69ms/epoch - 23ms/step\n",
      "Epoch 23/100\n",
      "3/3 - 0s - loss: 1.6191 - val_loss: 2.2909 - 198ms/epoch - 66ms/step\n",
      "Epoch 24/100\n",
      "3/3 - 0s - loss: 1.5321 - val_loss: 2.1580 - 149ms/epoch - 50ms/step\n",
      "Epoch 25/100\n",
      "3/3 - 0s - loss: 1.5361 - val_loss: 2.0591 - 427ms/epoch - 142ms/step\n",
      "Epoch 26/100\n",
      "3/3 - 0s - loss: 1.5377 - val_loss: 2.0068 - 179ms/epoch - 60ms/step\n",
      "Epoch 27/100\n",
      "3/3 - 0s - loss: 1.5650 - val_loss: 2.0099 - 304ms/epoch - 101ms/step\n",
      "Epoch 28/100\n",
      "3/3 - 0s - loss: 1.4459 - val_loss: 2.0494 - 184ms/epoch - 61ms/step\n",
      "Epoch 29/100\n",
      "3/3 - 0s - loss: 1.3811 - val_loss: 2.0994 - 123ms/epoch - 41ms/step\n",
      "Epoch 30/100\n",
      "3/3 - 0s - loss: 1.4435 - val_loss: 2.1583 - 103ms/epoch - 34ms/step\n",
      "Epoch 31/100\n",
      "3/3 - 0s - loss: 1.3249 - val_loss: 2.1968 - 100ms/epoch - 33ms/step\n",
      "Epoch 32/100\n",
      "3/3 - 0s - loss: 1.4470 - val_loss: 2.1950 - 73ms/epoch - 24ms/step\n",
      "Epoch 33/100\n",
      "3/3 - 0s - loss: 1.3806 - val_loss: 2.1475 - 78ms/epoch - 26ms/step\n",
      "Epoch 34/100\n",
      "3/3 - 0s - loss: 1.2748 - val_loss: 2.0703 - 74ms/epoch - 25ms/step\n",
      "Epoch 35/100\n",
      "3/3 - 0s - loss: 1.4118 - val_loss: 2.0074 - 80ms/epoch - 27ms/step\n",
      "Epoch 36/100\n",
      "3/3 - 0s - loss: 1.1894 - val_loss: 2.0489 - 84ms/epoch - 28ms/step\n",
      "Epoch 37/100\n",
      "3/3 - 0s - loss: 1.2926 - val_loss: 2.1128 - 72ms/epoch - 24ms/step\n",
      "Epoch 38/100\n",
      "3/3 - 0s - loss: 1.2358 - val_loss: 2.1926 - 176ms/epoch - 59ms/step\n",
      "Epoch 39/100\n",
      "3/3 - 0s - loss: 1.2998 - val_loss: 2.1767 - 75ms/epoch - 25ms/step\n",
      "Epoch 40/100\n",
      "3/3 - 0s - loss: 1.2118 - val_loss: 2.1400 - 132ms/epoch - 44ms/step\n",
      "Epoch 41/100\n",
      "3/3 - 0s - loss: 1.2700 - val_loss: 2.0839 - 61ms/epoch - 20ms/step\n",
      "Epoch 42/100\n",
      "3/3 - 0s - loss: 1.1492 - val_loss: 2.0730 - 77ms/epoch - 26ms/step\n",
      "Epoch 43/100\n",
      "3/3 - 0s - loss: 1.1236 - val_loss: 2.0838 - 184ms/epoch - 61ms/step\n",
      "Epoch 44/100\n",
      "3/3 - 0s - loss: 1.1140 - val_loss: 2.1255 - 72ms/epoch - 24ms/step\n",
      "Epoch 45/100\n",
      "3/3 - 0s - loss: 1.1344 - val_loss: 2.1154 - 168ms/epoch - 56ms/step\n",
      "Epoch 46/100\n",
      "3/3 - 0s - loss: 1.0543 - val_loss: 2.0613 - 210ms/epoch - 70ms/step\n",
      "Epoch 47/100\n",
      "3/3 - 0s - loss: 0.9404 - val_loss: 2.0465 - 93ms/epoch - 31ms/step\n",
      "Epoch 48/100\n",
      "3/3 - 0s - loss: 1.0152 - val_loss: 2.0526 - 87ms/epoch - 29ms/step\n",
      "Epoch 49/100\n",
      "3/3 - 0s - loss: 1.0184 - val_loss: 2.0162 - 73ms/epoch - 24ms/step\n",
      "Epoch 50/100\n",
      "3/3 - 0s - loss: 1.0206 - val_loss: 2.0174 - 93ms/epoch - 31ms/step\n",
      "Epoch 51/100\n",
      "3/3 - 0s - loss: 0.9607 - val_loss: 2.0990 - 98ms/epoch - 33ms/step\n",
      "Epoch 52/100\n",
      "3/3 - 0s - loss: 0.9243 - val_loss: 2.1521 - 68ms/epoch - 23ms/step\n",
      "Epoch 53/100\n",
      "3/3 - 0s - loss: 0.9214 - val_loss: 2.0516 - 132ms/epoch - 44ms/step\n",
      "Epoch 54/100\n",
      "3/3 - 0s - loss: 1.0049 - val_loss: 1.9811 - 72ms/epoch - 24ms/step\n",
      "Epoch 55/100\n",
      "3/3 - 0s - loss: 0.9221 - val_loss: 2.0157 - 127ms/epoch - 42ms/step\n",
      "Epoch 56/100\n",
      "3/3 - 0s - loss: 0.9730 - val_loss: 2.1068 - 93ms/epoch - 31ms/step\n",
      "Epoch 57/100\n",
      "3/3 - 0s - loss: 0.8194 - val_loss: 2.1493 - 187ms/epoch - 62ms/step\n",
      "Epoch 58/100\n",
      "3/3 - 0s - loss: 0.8270 - val_loss: 2.1761 - 54ms/epoch - 18ms/step\n",
      "Epoch 59/100\n",
      "3/3 - 0s - loss: 0.8500 - val_loss: 2.1467 - 66ms/epoch - 22ms/step\n",
      "Epoch 60/100\n",
      "3/3 - 0s - loss: 0.8490 - val_loss: 2.0899 - 101ms/epoch - 34ms/step\n",
      "Epoch 61/100\n",
      "3/3 - 0s - loss: 0.8063 - val_loss: 2.0108 - 73ms/epoch - 24ms/step\n",
      "Epoch 62/100\n",
      "3/3 - 0s - loss: 0.7849 - val_loss: 1.9522 - 74ms/epoch - 25ms/step\n",
      "Epoch 63/100\n",
      "3/3 - 0s - loss: 0.7231 - val_loss: 1.9974 - 54ms/epoch - 18ms/step\n",
      "Epoch 64/100\n",
      "3/3 - 0s - loss: 0.8859 - val_loss: 2.0204 - 51ms/epoch - 17ms/step\n",
      "Epoch 65/100\n",
      "3/3 - 0s - loss: 0.6463 - val_loss: 2.0047 - 201ms/epoch - 67ms/step\n",
      "Epoch 66/100\n",
      "3/3 - 0s - loss: 0.8737 - val_loss: 2.0061 - 102ms/epoch - 34ms/step\n",
      "Epoch 67/100\n",
      "3/3 - 0s - loss: 0.7069 - val_loss: 2.0792 - 86ms/epoch - 29ms/step\n",
      "Epoch 68/100\n",
      "3/3 - 0s - loss: 0.7083 - val_loss: 2.0810 - 105ms/epoch - 35ms/step\n",
      "Epoch 69/100\n",
      "3/3 - 0s - loss: 0.7021 - val_loss: 2.0831 - 272ms/epoch - 91ms/step\n",
      "Epoch 70/100\n",
      "3/3 - 0s - loss: 0.6884 - val_loss: 2.0591 - 200ms/epoch - 67ms/step\n",
      "Epoch 71/100\n",
      "3/3 - 0s - loss: 0.7384 - val_loss: 2.0836 - 479ms/epoch - 160ms/step\n",
      "Epoch 72/100\n",
      "3/3 - 0s - loss: 0.6762 - val_loss: 2.1163 - 125ms/epoch - 42ms/step\n",
      "Epoch 73/100\n",
      "3/3 - 0s - loss: 0.6895 - val_loss: 2.0657 - 116ms/epoch - 39ms/step\n",
      "Epoch 74/100\n",
      "3/3 - 0s - loss: 0.6210 - val_loss: 2.0523 - 93ms/epoch - 31ms/step\n",
      "Epoch 75/100\n",
      "3/3 - 0s - loss: 0.7570 - val_loss: 2.0882 - 85ms/epoch - 28ms/step\n",
      "Epoch 76/100\n",
      "3/3 - 0s - loss: 0.6506 - val_loss: 2.1606 - 140ms/epoch - 47ms/step\n",
      "Epoch 77/100\n",
      "3/3 - 1s - loss: 0.6308 - val_loss: 2.1928 - 609ms/epoch - 203ms/step\n",
      "Epoch 78/100\n",
      "3/3 - 1s - loss: 0.6954 - val_loss: 2.1485 - 584ms/epoch - 195ms/step\n",
      "Epoch 79/100\n",
      "3/3 - 0s - loss: 0.7094 - val_loss: 2.0425 - 127ms/epoch - 42ms/step\n",
      "Epoch 80/100\n",
      "3/3 - 0s - loss: 0.6760 - val_loss: 2.0208 - 93ms/epoch - 31ms/step\n",
      "Epoch 81/100\n",
      "3/3 - 0s - loss: 0.6993 - val_loss: 2.0906 - 168ms/epoch - 56ms/step\n",
      "Epoch 82/100\n",
      "3/3 - 0s - loss: 0.6347 - val_loss: 2.1867 - 54ms/epoch - 18ms/step\n",
      "Epoch 83/100\n",
      "3/3 - 0s - loss: 0.6552 - val_loss: 2.1870 - 55ms/epoch - 18ms/step\n",
      "Epoch 84/100\n",
      "3/3 - 0s - loss: 0.6970 - val_loss: 2.1181 - 77ms/epoch - 26ms/step\n",
      "Epoch 85/100\n",
      "3/3 - 0s - loss: 0.6438 - val_loss: 2.0946 - 47ms/epoch - 16ms/step\n",
      "Epoch 86/100\n",
      "3/3 - 0s - loss: 0.6600 - val_loss: 2.1916 - 47ms/epoch - 16ms/step\n",
      "Epoch 87/100\n",
      "3/3 - 0s - loss: 0.6405 - val_loss: 2.2621 - 64ms/epoch - 21ms/step\n",
      "Epoch 88/100\n",
      "3/3 - 0s - loss: 0.7159 - val_loss: 2.2515 - 62ms/epoch - 21ms/step\n",
      "Epoch 89/100\n",
      "3/3 - 0s - loss: 0.5965 - val_loss: 2.2354 - 88ms/epoch - 29ms/step\n",
      "Epoch 90/100\n",
      "3/3 - 0s - loss: 0.6563 - val_loss: 2.1746 - 87ms/epoch - 29ms/step\n",
      "Epoch 91/100\n",
      "3/3 - 0s - loss: 0.6225 - val_loss: 2.0937 - 92ms/epoch - 31ms/step\n",
      "Epoch 92/100\n",
      "3/3 - 0s - loss: 0.6641 - val_loss: 2.0912 - 71ms/epoch - 24ms/step\n",
      "Epoch 93/100\n",
      "3/3 - 0s - loss: 0.6628 - val_loss: 2.1648 - 67ms/epoch - 22ms/step\n",
      "Epoch 94/100\n",
      "3/3 - 0s - loss: 0.6900 - val_loss: 2.2092 - 63ms/epoch - 21ms/step\n",
      "Epoch 95/100\n",
      "3/3 - 0s - loss: 0.6580 - val_loss: 2.2392 - 103ms/epoch - 34ms/step\n",
      "Epoch 96/100\n",
      "3/3 - 0s - loss: 0.6081 - val_loss: 2.2507 - 71ms/epoch - 24ms/step\n",
      "Epoch 97/100\n",
      "3/3 - 0s - loss: 0.6854 - val_loss: 2.1533 - 58ms/epoch - 19ms/step\n",
      "Epoch 98/100\n",
      "3/3 - 0s - loss: 0.6829 - val_loss: 2.0693 - 68ms/epoch - 23ms/step\n",
      "Epoch 99/100\n",
      "3/3 - 0s - loss: 0.6482 - val_loss: 2.0454 - 71ms/epoch - 24ms/step\n",
      "Epoch 100/100\n",
      "3/3 - 0s - loss: 0.5911 - val_loss: 2.0838 - 66ms/epoch - 22ms/step\n"
     ]
    }
   ],
   "source": [
    "model = tf.keras.Sequential([\n",
    "    tf.keras.layers.Embedding(1000, 16, input_length=30),\n",
    "    tf.keras.layers.Conv1D(256, 3, activation='relu'),\n",
    "    tf.keras.layers.GlobalMaxPooling1D(),\n",
    "    tf.keras.layers.Dropout(0.7),\n",
    "    tf.keras.layers.Dense(64, activation='relu'),\n",
    "    tf.keras.layers.Dense(1)\n",
    "])\n",
    "\n",
    "# Set the training parameters\n",
    "model.compile(loss=tf.keras.losses.MeanAbsoluteError(), optimizer='adam')\n",
    "\n",
    "# Print the model summary\n",
    "history = model.fit(feature_train,\n",
    "                    label_train,\n",
    "                    epochs=100,\n",
    "                    validation_data=(feature_test, label_test),\n",
    "                    verbose=2)"
   ],
   "metadata": {
    "collapsed": false,
    "pycharm": {
     "name": "#%%\n"
    }
   }
  },
  {
   "cell_type": "code",
   "execution_count": 30,
   "outputs": [
    {
     "data": {
      "text/plain": "<Figure size 432x288 with 1 Axes>",
      "image/png": "[encoded data removed]"
     },
     "metadata": {
      "needs_background": "light"
     },
     "output_type": "display_data"
    }
   ],
   "source": [
    "def plot_graphs(history, metric):\n",
    "    plt.plot(history.history[metric])\n",
    "    plt.plot(history.history[f'val_{metric}'])\n",
    "    plt.xlabel(\"Epochs\")\n",
    "    plt.ylabel(metric)\n",
    "    plt.legend([metric, f'val_{metric}'])\n",
    "    plt.show()\n",
    "\n",
    "plot_graphs(history, \"loss\")"
   ],
   "metadata": {
    "collapsed": false,
    "pycharm": {
     "name": "#%%\n"
    }
   }
  },
  {
   "cell_type": "code",
   "execution_count": 31,
   "outputs": [
    {
     "name": "stdout",
     "output_type": "stream",
     "text": [
      "1/1 [==============================] - 0s 180ms/step\n"
     ]
    },
    {
     "data": {
      "text/plain": "array([[5.4046445]], dtype=float32)"
     },
     "execution_count": 31,
     "metadata": {},
     "output_type": "execute_result"
    }
   ],
   "source": [
    "model.predict(feature_train[[11]])"
   ],
   "metadata": {
    "collapsed": false,
    "pycharm": {
     "name": "#%%\n"
    }
   }
  },
  {
   "cell_type": "code",
   "execution_count": 15,
   "outputs": [
    {
     "name": "stdout",
     "output_type": "stream",
     "text": [
      "1/1 [==============================] - 0s 50ms/step - loss: 2.0847\n"
     ]
    },
    {
     "data": {
      "text/plain": "2.084667205810547"
     },
     "execution_count": 15,
     "metadata": {},
     "output_type": "execute_result"
    }
   ],
   "source": [
    "model.evaluate(feature_test, label_test)"
   ],
   "metadata": {
    "collapsed": false,
    "pycharm": {
     "name": "#%%\n"
    }
   }
  },
  {
   "cell_type": "code",
   "execution_count": 32,
   "outputs": [
    {
     "name": "stdout",
     "output_type": "stream",
     "text": [
      "1/1 [==============================] - 0s 172ms/step\n",
      "pred : 8 label : 6\n",
      "pred : 6 label : 7\n",
      "pred : 6 label : 8\n",
      "pred : 6 label : 8\n",
      "pred : 4 label : 5\n",
      "pred : 6 label : 4\n",
      "pred : 7 label : 3\n",
      "pred : 7 label : 7\n",
      "pred : 6 label : 5\n",
      "pred : 6 label : 9\n"
     ]
    }
   ],
   "source": [
    "pred = model.predict(feature_test)\n",
    "result = datas = {'pred':pred, 'true':label_test}\n",
    "for i in range(len(label_test)):\n",
    "    print('pred : {} label : {}'.format(round(pred[i][0]), label[i]))"
   ],
   "metadata": {
    "collapsed": false,
    "pycharm": {
     "name": "#%%\n"
    }
   }
  },
  {
   "cell_type": "code",
   "execution_count": null,
   "outputs": [],
   "source": [
    "model.save('{}.h5'.format(traits))"
   ],
   "metadata": {
    "collapsed": false,
    "pycharm": {
     "name": "#%%\n"
    }
   }
  }
 ],
 "metadata": {
  "kernelspec": {
   "display_name": "Python 3",
   "language": "python",
   "name": "python3"
  },
  "language_info": {
   "codemirror_mode": {
    "name": "ipython",
    "version": 2
   },
   "file_extension": ".py",
   "mimetype": "text/x-python",
   "name": "python",
   "nbconvert_exporter": "python",
   "pygments_lexer": "ipython2",
   "version": "2.7.6"
  }
 },
 "nbformat": 4,
 "nbformat_minor": 0
}