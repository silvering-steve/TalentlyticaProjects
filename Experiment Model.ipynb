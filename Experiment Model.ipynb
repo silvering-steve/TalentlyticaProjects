{
 "cells": [
  {
   "cell_type": "code",
   "execution_count": 2,
   "outputs": [],
   "source": [
    "import os\n",
    "import glob\n",
    "import pickle\n",
    "import sklearn\n",
    "import spacy\n",
    "import lime\n",
    "import keras\n",
    "import numpy as np\n",
    "import pandas as pd\n",
    "import tensorflow as tf\n",
    "import matplotlib.pyplot as plt\n",
    "from keras_preprocessing.sequence import pad_sequences\n",
    "from keras_preprocessing.text import Tokenizer\n",
    "from sklearn.preprocessing import StandardScaler\n",
    "from sklearn.feature_selection import chi2, SelectKBest\n",
    "from sklearn.feature_extraction.text import TfidfVectorizer, CountVectorizer\n",
    "from sklearn.metrics import accuracy_score, f1_score, classification_report\n",
    "from sklearn.ensemble import GradientBoostingClassifier, RandomForestClassifier\n",
    "from sklearn.tree import DecisionTreeClassifier\n",
    "from sklearn.neighbors import KNeighborsClassifier\n",
    "from sklearn.linear_model import LogisticRegression, SGDClassifier\n",
    "from sklearn.naive_bayes import MultinomialNB\n",
    "from sklearn.model_selection import train_test_split"
   ],
   "metadata": {
    "collapsed": false,
    "pycharm": {
     "name": "#%%\n"
    }
   }
  },
  {
   "cell_type": "code",
   "execution_count": 3,
   "outputs": [
    {
     "data": {
      "text/plain": "   Unnamed: 0                       Email  \\\n0           1         atkamliaa@gmail.com   \n1           2   deri45anggraini@gmail.com   \n2           3   elisabethda1994@gmail.com   \n3           4     jordyrevindra@gmail.com   \n4           5      nisakusuma20@gmail.com   \n5           7       adhibhawika@gmail.com   \n6           8  c.chusnulkotimah@gmail.com   \n7           9      devisarasaty@gmail.com   \n8          10     fkevinirwanto@gmail.com   \n\n                                                 key  \\\n0  SUMMARY When was in college I was experienced ...   \n1  PT_ Bank Negara Indonesia 20202021 Job descrip...   \n2  COMMITTEES Coordinator of the public relations...   \n3  PT Pertamina RU IV Persero Cilacap Jawa Tengah...   \n4  EXPERIENCE PT Metranet PaDi UMKM Telkom Group ...   \n5  SENAT MAHASISWA UNIVERSITAS DIPONEGORO JAN 201...   \n6  Experienced and energetic Marketing Manager wi...   \n7  KERJAINPLIS Freelance Writer April 2021 Presen...   \n8  October 2019 PT Angkasa Pura 1 Persero Human C...   \n\n               Nama Peserta           Project  MD  MI  MS  MC  LD  ...  \\\n0             Atikah Amalia  Hiring Batch 1 2   7   3   2   6   4  ...   \n1      Deri Firma Anggraini  Hiring Batch 1 2   8   2   3   7   4  ...   \n2   Elisabeth Dwi Anggraeni  Hiring Batch 1 2   8   3   2   5   4  ...   \n3     Jordy Revindra Priana  Hiring Batch 1 2   5   4   3   7   5  ...   \n4         Nisa Kusuma Febri  Hiring Batch 1 2   4   3   5   7   6  ...   \n5  Adhi Bhawika Prabhaswara  Hiring Batch 1 3   7   3   0   6   4  ...   \n6           Chusnul Kotimah  Hiring Batch 1 3   5   0   4   4   6  ...   \n7             Devi Sarasaty  Hiring Batch 1 3   9   2   0   6   3  ...   \n8             Kevin Irwanto  Hiring Batch 1 3   8   1   3   5   1  ...   \n\n   Unnamed: 68  Unnamed: 69  Unnamed: 70  Unnamed: 71  Unnamed: 72  \\\n0          NaN          NaN          NaN          NaN          NaN   \n1          NaN          NaN          NaN          NaN          NaN   \n2          NaN          NaN          NaN          NaN          NaN   \n3          NaN          NaN          NaN          NaN          NaN   \n4          NaN          NaN          NaN          NaN          NaN   \n5          NaN          NaN          NaN          NaN          NaN   \n6          NaN          NaN          NaN          NaN          NaN   \n7          NaN          NaN          NaN          NaN          NaN   \n8          NaN          NaN          NaN          NaN          NaN   \n\n   Unnamed: 73  Unnamed: 74 Unnamed: 75 Unnamed: 76 Unnamed: 77  \n0          NaN          NaN         NaN         NaN         NaN  \n1          NaN          NaN         NaN         NaN         NaN  \n2          NaN          NaN         NaN         NaN         NaN  \n3          NaN          NaN         NaN         NaN         NaN  \n4          NaN          NaN         NaN         NaN         NaN  \n5          NaN          NaN         NaN         NaN         NaN  \n6          NaN          NaN         NaN         NaN         NaN  \n7          NaN          NaN         NaN         NaN         NaN  \n8          NaN          NaN         NaN         NaN         NaN  \n\n[9 rows x 79 columns]",
      "text/html": "<div>\n<style scoped>\n    .dataframe tbody tr th:only-of-type {\n        vertical-align: middle;\n    }\n\n    .dataframe tbody tr th {\n        vertical-align: top;\n    }\n\n    .dataframe thead th {\n        text-align: right;\n    }\n</style>\n<table border=\"1\" class=\"dataframe\">\n  <thead>\n    <tr style=\"text-align: right;\">\n      <th></th>\n      <th>Unnamed: 0</th>\n      <th>Email</th>\n      <th>key</th>\n      <th>Nama Peserta</th>\n      <th>Project</th>\n      <th>MD</th>\n      <th>MI</th>\n      <th>MS</th>\n      <th>MC</th>\n      <th>LD</th>\n      <th>...</th>\n      <th>Unnamed: 68</th>\n      <th>Unnamed: 69</th>\n      <th>Unnamed: 70</th>\n      <th>Unnamed: 71</th>\n      <th>Unnamed: 72</th>\n      <th>Unnamed: 73</th>\n      <th>Unnamed: 74</th>\n      <th>Unnamed: 75</th>\n      <th>Unnamed: 76</th>\n      <th>Unnamed: 77</th>\n    </tr>\n  </thead>\n  <tbody>\n    <tr>\n      <th>0</th>\n      <td>1</td>\n      <td>atkamliaa@gmail.com</td>\n      <td>SUMMARY When was in college I was experienced ...</td>\n      <td>Atikah Amalia</td>\n      <td>Hiring Batch 1 2</td>\n      <td>7</td>\n      <td>3</td>\n      <td>2</td>\n      <td>6</td>\n      <td>4</td>\n      <td>...</td>\n      <td>NaN</td>\n      <td>NaN</td>\n      <td>NaN</td>\n      <td>NaN</td>\n      <td>NaN</td>\n      <td>NaN</td>\n      <td>NaN</td>\n      <td>NaN</td>\n      <td>NaN</td>\n      <td>NaN</td>\n    </tr>\n    <tr>\n      <th>1</th>\n      <td>2</td>\n      <td>deri45anggraini@gmail.com</td>\n      <td>PT_ Bank Negara Indonesia 20202021 Job descrip...</td>\n      <td>Deri Firma Anggraini</td>\n      <td>Hiring Batch 1 2</td>\n      <td>8</td>\n      <td>2</td>\n      <td>3</td>\n      <td>7</td>\n      <td>4</td>\n      <td>...</td>\n      <td>NaN</td>\n      <td>NaN</td>\n      <td>NaN</td>\n      <td>NaN</td>\n      <td>NaN</td>\n      <td>NaN</td>\n      <td>NaN</td>\n      <td>NaN</td>\n      <td>NaN</td>\n      <td>NaN</td>\n    </tr>\n    <tr>\n      <th>2</th>\n      <td>3</td>\n      <td>elisabethda1994@gmail.com</td>\n      <td>COMMITTEES Coordinator of the public relations...</td>\n      <td>Elisabeth Dwi Anggraeni</td>\n      <td>Hiring Batch 1 2</td>\n      <td>8</td>\n      <td>3</td>\n      <td>2</td>\n      <td>5</td>\n      <td>4</td>\n      <td>...</td>\n      <td>NaN</td>\n      <td>NaN</td>\n      <td>NaN</td>\n      <td>NaN</td>\n      <td>NaN</td>\n      <td>NaN</td>\n      <td>NaN</td>\n      <td>NaN</td>\n      <td>NaN</td>\n      <td>NaN</td>\n    </tr>\n    <tr>\n      <th>3</th>\n      <td>4</td>\n      <td>jordyrevindra@gmail.com</td>\n      <td>PT Pertamina RU IV Persero Cilacap Jawa Tengah...</td>\n      <td>Jordy Revindra Priana</td>\n      <td>Hiring Batch 1 2</td>\n      <td>5</td>\n      <td>4</td>\n      <td>3</td>\n      <td>7</td>\n      <td>5</td>\n      <td>...</td>\n      <td>NaN</td>\n      <td>NaN</td>\n      <td>NaN</td>\n      <td>NaN</td>\n      <td>NaN</td>\n      <td>NaN</td>\n      <td>NaN</td>\n      <td>NaN</td>\n      <td>NaN</td>\n      <td>NaN</td>\n    </tr>\n    <tr>\n      <th>4</th>\n      <td>5</td>\n      <td>nisakusuma20@gmail.com</td>\n      <td>EXPERIENCE PT Metranet PaDi UMKM Telkom Group ...</td>\n      <td>Nisa Kusuma Febri</td>\n      <td>Hiring Batch 1 2</td>\n      <td>4</td>\n      <td>3</td>\n      <td>5</td>\n      <td>7</td>\n      <td>6</td>\n      <td>...</td>\n      <td>NaN</td>\n      <td>NaN</td>\n      <td>NaN</td>\n      <td>NaN</td>\n      <td>NaN</td>\n      <td>NaN</td>\n      <td>NaN</td>\n      <td>NaN</td>\n      <td>NaN</td>\n      <td>NaN</td>\n    </tr>\n    <tr>\n      <th>5</th>\n      <td>7</td>\n      <td>adhibhawika@gmail.com</td>\n      <td>SENAT MAHASISWA UNIVERSITAS DIPONEGORO JAN 201...</td>\n      <td>Adhi Bhawika Prabhaswara</td>\n      <td>Hiring Batch 1 3</td>\n      <td>7</td>\n      <td>3</td>\n      <td>0</td>\n      <td>6</td>\n      <td>4</td>\n      <td>...</td>\n      <td>NaN</td>\n      <td>NaN</td>\n      <td>NaN</td>\n      <td>NaN</td>\n      <td>NaN</td>\n      <td>NaN</td>\n      <td>NaN</td>\n      <td>NaN</td>\n      <td>NaN</td>\n      <td>NaN</td>\n    </tr>\n    <tr>\n      <th>6</th>\n      <td>8</td>\n      <td>c.chusnulkotimah@gmail.com</td>\n      <td>Experienced and energetic Marketing Manager wi...</td>\n      <td>Chusnul Kotimah</td>\n      <td>Hiring Batch 1 3</td>\n      <td>5</td>\n      <td>0</td>\n      <td>4</td>\n      <td>4</td>\n      <td>6</td>\n      <td>...</td>\n      <td>NaN</td>\n      <td>NaN</td>\n      <td>NaN</td>\n      <td>NaN</td>\n      <td>NaN</td>\n      <td>NaN</td>\n      <td>NaN</td>\n      <td>NaN</td>\n      <td>NaN</td>\n      <td>NaN</td>\n    </tr>\n    <tr>\n      <th>7</th>\n      <td>9</td>\n      <td>devisarasaty@gmail.com</td>\n      <td>KERJAINPLIS Freelance Writer April 2021 Presen...</td>\n      <td>Devi Sarasaty</td>\n      <td>Hiring Batch 1 3</td>\n      <td>9</td>\n      <td>2</td>\n      <td>0</td>\n      <td>6</td>\n      <td>3</td>\n      <td>...</td>\n      <td>NaN</td>\n      <td>NaN</td>\n      <td>NaN</td>\n      <td>NaN</td>\n      <td>NaN</td>\n      <td>NaN</td>\n      <td>NaN</td>\n      <td>NaN</td>\n      <td>NaN</td>\n      <td>NaN</td>\n    </tr>\n    <tr>\n      <th>8</th>\n      <td>10</td>\n      <td>fkevinirwanto@gmail.com</td>\n      <td>October 2019 PT Angkasa Pura 1 Persero Human C...</td>\n      <td>Kevin Irwanto</td>\n      <td>Hiring Batch 1 3</td>\n      <td>8</td>\n      <td>1</td>\n      <td>3</td>\n      <td>5</td>\n      <td>1</td>\n      <td>...</td>\n      <td>NaN</td>\n      <td>NaN</td>\n      <td>NaN</td>\n      <td>NaN</td>\n      <td>NaN</td>\n      <td>NaN</td>\n      <td>NaN</td>\n      <td>NaN</td>\n      <td>NaN</td>\n      <td>NaN</td>\n    </tr>\n  </tbody>\n</table>\n<p>9 rows × 79 columns</p>\n</div>"
     },
     "execution_count": 3,
     "metadata": {},
     "output_type": "execute_result"
    }
   ],
   "source": [
    "df = pd.read_csv('sample/exp_train.csv')\n",
    "\n",
    "df"
   ],
   "metadata": {
    "collapsed": false,
    "pycharm": {
     "name": "#%%\n"
    }
   }
  },
  {
   "cell_type": "code",
   "execution_count": 4,
   "outputs": [
    {
     "data": {
      "text/plain": "   Unnamed: 0                       Email  \\\n0           1         atkamliaa@gmail.com   \n1           2   deri45anggraini@gmail.com   \n2           3   elisabethda1994@gmail.com   \n3           4     jordyrevindra@gmail.com   \n4           5      nisakusuma20@gmail.com   \n5           7       adhibhawika@gmail.com   \n6           8  c.chusnulkotimah@gmail.com   \n7           9      devisarasaty@gmail.com   \n8          10     fkevinirwanto@gmail.com   \n\n                                                 key  \\\n0  SUMMARY When was in college I was experienced ...   \n1  PT_ Bank Negara Indonesia 20202021 Job descrip...   \n2  COMMITTEES Coordinator of the public relations...   \n3  PT Pertamina RU IV Persero Cilacap Jawa Tengah...   \n4  EXPERIENCE PT Metranet PaDi UMKM Telkom Group ...   \n5  SENAT MAHASISWA UNIVERSITAS DIPONEGORO JAN 201...   \n6  Experienced and energetic Marketing Manager wi...   \n7  KERJAINPLIS Freelance Writer April 2021 Presen...   \n8  October 2019 PT Angkasa Pura 1 Persero Human C...   \n\n               Nama Peserta           Project  MD  MI  MS  MC  LD  ...  \\\n0             Atikah Amalia  Hiring Batch 1 2   2   3   2   6   4  ...   \n1      Deri Firma Anggraini  Hiring Batch 1 2   3   2   3   7   4  ...   \n2   Elisabeth Dwi Anggraeni  Hiring Batch 1 2   3   3   2   5   4  ...   \n3     Jordy Revindra Priana  Hiring Batch 1 2   1   4   3   7   5  ...   \n4         Nisa Kusuma Febri  Hiring Batch 1 2   1   3   5   7   6  ...   \n5  Adhi Bhawika Prabhaswara  Hiring Batch 1 3   2   3   0   6   4  ...   \n6           Chusnul Kotimah  Hiring Batch 1 3   1   0   4   4   6  ...   \n7             Devi Sarasaty  Hiring Batch 1 3   3   2   0   6   3  ...   \n8             Kevin Irwanto  Hiring Batch 1 3   3   1   3   5   1  ...   \n\n   Unnamed: 68  Unnamed: 69  Unnamed: 70  Unnamed: 71  Unnamed: 72  \\\n0          NaN          NaN          NaN          NaN          NaN   \n1          NaN          NaN          NaN          NaN          NaN   \n2          NaN          NaN          NaN          NaN          NaN   \n3          NaN          NaN          NaN          NaN          NaN   \n4          NaN          NaN          NaN          NaN          NaN   \n5          NaN          NaN          NaN          NaN          NaN   \n6          NaN          NaN          NaN          NaN          NaN   \n7          NaN          NaN          NaN          NaN          NaN   \n8          NaN          NaN          NaN          NaN          NaN   \n\n   Unnamed: 73  Unnamed: 74 Unnamed: 75 Unnamed: 76 Unnamed: 77  \n0          NaN          NaN         NaN         NaN         NaN  \n1          NaN          NaN         NaN         NaN         NaN  \n2          NaN          NaN         NaN         NaN         NaN  \n3          NaN          NaN         NaN         NaN         NaN  \n4          NaN          NaN         NaN         NaN         NaN  \n5          NaN          NaN         NaN         NaN         NaN  \n6          NaN          NaN         NaN         NaN         NaN  \n7          NaN          NaN         NaN         NaN         NaN  \n8          NaN          NaN         NaN         NaN         NaN  \n\n[9 rows x 79 columns]",
      "text/html": "<div>\n<style scoped>\n    .dataframe tbody tr th:only-of-type {\n        vertical-align: middle;\n    }\n\n    .dataframe tbody tr th {\n        vertical-align: top;\n    }\n\n    .dataframe thead th {\n        text-align: right;\n    }\n</style>\n<table border=\"1\" class=\"dataframe\">\n  <thead>\n    <tr style=\"text-align: right;\">\n      <th></th>\n      <th>Unnamed: 0</th>\n      <th>Email</th>\n      <th>key</th>\n      <th>Nama Peserta</th>\n      <th>Project</th>\n      <th>MD</th>\n      <th>MI</th>\n      <th>MS</th>\n      <th>MC</th>\n      <th>LD</th>\n      <th>...</th>\n      <th>Unnamed: 68</th>\n      <th>Unnamed: 69</th>\n      <th>Unnamed: 70</th>\n      <th>Unnamed: 71</th>\n      <th>Unnamed: 72</th>\n      <th>Unnamed: 73</th>\n      <th>Unnamed: 74</th>\n      <th>Unnamed: 75</th>\n      <th>Unnamed: 76</th>\n      <th>Unnamed: 77</th>\n    </tr>\n  </thead>\n  <tbody>\n    <tr>\n      <th>0</th>\n      <td>1</td>\n      <td>atkamliaa@gmail.com</td>\n      <td>SUMMARY When was in college I was experienced ...</td>\n      <td>Atikah Amalia</td>\n      <td>Hiring Batch 1 2</td>\n      <td>2</td>\n      <td>3</td>\n      <td>2</td>\n      <td>6</td>\n      <td>4</td>\n      <td>...</td>\n      <td>NaN</td>\n      <td>NaN</td>\n      <td>NaN</td>\n      <td>NaN</td>\n      <td>NaN</td>\n      <td>NaN</td>\n      <td>NaN</td>\n      <td>NaN</td>\n      <td>NaN</td>\n      <td>NaN</td>\n    </tr>\n    <tr>\n      <th>1</th>\n      <td>2</td>\n      <td>deri45anggraini@gmail.com</td>\n      <td>PT_ Bank Negara Indonesia 20202021 Job descrip...</td>\n      <td>Deri Firma Anggraini</td>\n      <td>Hiring Batch 1 2</td>\n      <td>3</td>\n      <td>2</td>\n      <td>3</td>\n      <td>7</td>\n      <td>4</td>\n      <td>...</td>\n      <td>NaN</td>\n      <td>NaN</td>\n      <td>NaN</td>\n      <td>NaN</td>\n      <td>NaN</td>\n      <td>NaN</td>\n      <td>NaN</td>\n      <td>NaN</td>\n      <td>NaN</td>\n      <td>NaN</td>\n    </tr>\n    <tr>\n      <th>2</th>\n      <td>3</td>\n      <td>elisabethda1994@gmail.com</td>\n      <td>COMMITTEES Coordinator of the public relations...</td>\n      <td>Elisabeth Dwi Anggraeni</td>\n      <td>Hiring Batch 1 2</td>\n      <td>3</td>\n      <td>3</td>\n      <td>2</td>\n      <td>5</td>\n      <td>4</td>\n      <td>...</td>\n      <td>NaN</td>\n      <td>NaN</td>\n      <td>NaN</td>\n      <td>NaN</td>\n      <td>NaN</td>\n      <td>NaN</td>\n      <td>NaN</td>\n      <td>NaN</td>\n      <td>NaN</td>\n      <td>NaN</td>\n    </tr>\n    <tr>\n      <th>3</th>\n      <td>4</td>\n      <td>jordyrevindra@gmail.com</td>\n      <td>PT Pertamina RU IV Persero Cilacap Jawa Tengah...</td>\n      <td>Jordy Revindra Priana</td>\n      <td>Hiring Batch 1 2</td>\n      <td>1</td>\n      <td>4</td>\n      <td>3</td>\n      <td>7</td>\n      <td>5</td>\n      <td>...</td>\n      <td>NaN</td>\n      <td>NaN</td>\n      <td>NaN</td>\n      <td>NaN</td>\n      <td>NaN</td>\n      <td>NaN</td>\n      <td>NaN</td>\n      <td>NaN</td>\n      <td>NaN</td>\n      <td>NaN</td>\n    </tr>\n    <tr>\n      <th>4</th>\n      <td>5</td>\n      <td>nisakusuma20@gmail.com</td>\n      <td>EXPERIENCE PT Metranet PaDi UMKM Telkom Group ...</td>\n      <td>Nisa Kusuma Febri</td>\n      <td>Hiring Batch 1 2</td>\n      <td>1</td>\n      <td>3</td>\n      <td>5</td>\n      <td>7</td>\n      <td>6</td>\n      <td>...</td>\n      <td>NaN</td>\n      <td>NaN</td>\n      <td>NaN</td>\n      <td>NaN</td>\n      <td>NaN</td>\n      <td>NaN</td>\n      <td>NaN</td>\n      <td>NaN</td>\n      <td>NaN</td>\n      <td>NaN</td>\n    </tr>\n    <tr>\n      <th>5</th>\n      <td>7</td>\n      <td>adhibhawika@gmail.com</td>\n      <td>SENAT MAHASISWA UNIVERSITAS DIPONEGORO JAN 201...</td>\n      <td>Adhi Bhawika Prabhaswara</td>\n      <td>Hiring Batch 1 3</td>\n      <td>2</td>\n      <td>3</td>\n      <td>0</td>\n      <td>6</td>\n      <td>4</td>\n      <td>...</td>\n      <td>NaN</td>\n      <td>NaN</td>\n      <td>NaN</td>\n      <td>NaN</td>\n      <td>NaN</td>\n      <td>NaN</td>\n      <td>NaN</td>\n      <td>NaN</td>\n      <td>NaN</td>\n      <td>NaN</td>\n    </tr>\n    <tr>\n      <th>6</th>\n      <td>8</td>\n      <td>c.chusnulkotimah@gmail.com</td>\n      <td>Experienced and energetic Marketing Manager wi...</td>\n      <td>Chusnul Kotimah</td>\n      <td>Hiring Batch 1 3</td>\n      <td>1</td>\n      <td>0</td>\n      <td>4</td>\n      <td>4</td>\n      <td>6</td>\n      <td>...</td>\n      <td>NaN</td>\n      <td>NaN</td>\n      <td>NaN</td>\n      <td>NaN</td>\n      <td>NaN</td>\n      <td>NaN</td>\n      <td>NaN</td>\n      <td>NaN</td>\n      <td>NaN</td>\n      <td>NaN</td>\n    </tr>\n    <tr>\n      <th>7</th>\n      <td>9</td>\n      <td>devisarasaty@gmail.com</td>\n      <td>KERJAINPLIS Freelance Writer April 2021 Presen...</td>\n      <td>Devi Sarasaty</td>\n      <td>Hiring Batch 1 3</td>\n      <td>3</td>\n      <td>2</td>\n      <td>0</td>\n      <td>6</td>\n      <td>3</td>\n      <td>...</td>\n      <td>NaN</td>\n      <td>NaN</td>\n      <td>NaN</td>\n      <td>NaN</td>\n      <td>NaN</td>\n      <td>NaN</td>\n      <td>NaN</td>\n      <td>NaN</td>\n      <td>NaN</td>\n      <td>NaN</td>\n    </tr>\n    <tr>\n      <th>8</th>\n      <td>10</td>\n      <td>fkevinirwanto@gmail.com</td>\n      <td>October 2019 PT Angkasa Pura 1 Persero Human C...</td>\n      <td>Kevin Irwanto</td>\n      <td>Hiring Batch 1 3</td>\n      <td>3</td>\n      <td>1</td>\n      <td>3</td>\n      <td>5</td>\n      <td>1</td>\n      <td>...</td>\n      <td>NaN</td>\n      <td>NaN</td>\n      <td>NaN</td>\n      <td>NaN</td>\n      <td>NaN</td>\n      <td>NaN</td>\n      <td>NaN</td>\n      <td>NaN</td>\n      <td>NaN</td>\n      <td>NaN</td>\n    </tr>\n  </tbody>\n</table>\n<p>9 rows × 79 columns</p>\n</div>"
     },
     "execution_count": 4,
     "metadata": {},
     "output_type": "execute_result"
    }
   ],
   "source": [
    "def generalize(x):\n",
    "    if x == 0:\n",
    "        return 1\n",
    "    elif x == 1:\n",
    "        return 0\n",
    "    elif x >= 2 and x < 4:\n",
    "        return 0\n",
    "    elif x >= 4 and x < 6:\n",
    "        return 1\n",
    "    elif x >= 6 and x < 8:\n",
    "        return 2\n",
    "    elif x >= 8 and x < 11:\n",
    "        return 3\n",
    "    elif x >= 11:\n",
    "        return 7\n",
    "\n",
    "df['MD'] = df.MD.apply(lambda x : generalize(x))\n",
    "\n",
    "df"
   ],
   "metadata": {
    "collapsed": false,
    "pycharm": {
     "name": "#%%\n"
    }
   }
  },
  {
   "cell_type": "code",
   "execution_count": 13,
   "outputs": [
    {
     "data": {
      "text/plain": "'COMMITTEES Coordinator of the public relations division of ORASI 2019 Project leader for amendment to student activity unit regulation at Kema Unpad 2020 Commissioner at Prama Unpad 2019  '"
     },
     "execution_count": 13,
     "metadata": {},
     "output_type": "execute_result"
    }
   ],
   "source": [
    "df.loc[2, \"key\"]"
   ],
   "metadata": {
    "collapsed": false,
    "pycharm": {
     "name": "#%%\n"
    }
   }
  },
  {
   "cell_type": "code",
   "execution_count": 5,
   "outputs": [
    {
     "name": "stdout",
     "output_type": "stream",
     "text": [
      "<class 'pandas.core.frame.DataFrame'>\n",
      "RangeIndex: 9 entries, 0 to 8\n",
      "Data columns (total 79 columns):\n",
      " #   Column                      Non-Null Count  Dtype  \n",
      "---  ------                      --------------  -----  \n",
      " 0   Unnamed: 0                  9 non-null      int64  \n",
      " 1   Email                       9 non-null      object \n",
      " 2   key                         9 non-null      object \n",
      " 3   Nama Peserta                9 non-null      object \n",
      " 4   Project                     9 non-null      object \n",
      " 5   MD                          9 non-null      int64  \n",
      " 6   MI                          9 non-null      int64  \n",
      " 7   MS                          9 non-null      int64  \n",
      " 8   MC                          9 non-null      int64  \n",
      " 9   LD                          9 non-null      int64  \n",
      " 10  LI                          9 non-null      int64  \n",
      " 11  LS                          9 non-null      int64  \n",
      " 12  LC                          9 non-null      int64  \n",
      " 13  CD                          9 non-null      int64  \n",
      " 14  CI                          9 non-null      int64  \n",
      " 15  CS                          9 non-null      int64  \n",
      " 16  CC                          9 non-null      int64  \n",
      " 17  Grafik1                     9 non-null      object \n",
      " 18  Grafik2                     9 non-null      object \n",
      " 19  Grafik3                     9 non-null      object \n",
      " 20  Hasil                       9 non-null      object \n",
      " 21  GTQ1                        9 non-null      int64  \n",
      " 22  GTQ2                        9 non-null      int64  \n",
      " 23  GTQ3                        9 non-null      int64  \n",
      " 24  GTQ4                        9 non-null      int64  \n",
      " 25  GTQ5                        9 non-null      int64  \n",
      " 26  Average GTQ                 9 non-null      int64  \n",
      " 27  SS1                         9 non-null      int64  \n",
      " 28  SS2                         9 non-null      int64  \n",
      " 29  SS3                         9 non-null      int64  \n",
      " 30  SS4                         9 non-null      int64  \n",
      " 31  Jumlah                      9 non-null      int64  \n",
      " 32  IQ                          9 non-null      int64  \n",
      " 33  N                           9 non-null      int64  \n",
      " 34  G                           9 non-null      int64  \n",
      " 35  A                           9 non-null      int64  \n",
      " 36  L                           9 non-null      int64  \n",
      " 37  P                           9 non-null      int64  \n",
      " 38  I                           9 non-null      int64  \n",
      " 39  T                           9 non-null      int64  \n",
      " 40  V                           9 non-null      int64  \n",
      " 41  X                           9 non-null      int64  \n",
      " 42  S                           9 non-null      int64  \n",
      " 43  B                           9 non-null      int64  \n",
      " 44  O                           9 non-null      int64  \n",
      " 45  R                           9 non-null      int64  \n",
      " 46  D                           9 non-null      int64  \n",
      " 47  C                           9 non-null      int64  \n",
      " 48  Z                           9 non-null      int64  \n",
      " 49  E                           9 non-null      int64  \n",
      " 50  K                           9 non-null      int64  \n",
      " 51  F                           9 non-null      int64  \n",
      " 52  W                           9 non-null      int64  \n",
      " 53  DAYA_ANALISA                9 non-null      int64  \n",
      " 54  FLEXIBILITAS                9 non-null      int64  \n",
      " 55  KEMAMPUAN_MEMIMPIN          9 non-null      int64  \n",
      " 56  KEMAMPUAN_NUMERIKAL         9 non-null      int64  \n",
      " 57  KEMAMPUAN_PERENCANAAN       9 non-null      int64  \n",
      " 58  KEMAMPUAN_VERBAL            9 non-null      int64  \n",
      " 59  KERJASAMA                   9 non-null      int64  \n",
      " 60  KETERAMPILAN_INTERPERSONAL  9 non-null      int64  \n",
      " 61  LOGIKA_BERPIKIR             9 non-null      int64  \n",
      " 62  MOTIVASI_BERPRESTASI        9 non-null      int64  \n",
      " 63  ORIENTASI_HASIL             9 non-null      int64  \n",
      " 64  PENYELESAIAN_MASALAH        9 non-null      int64  \n",
      " 65  SISTEMATIKA_KERJA           9 non-null      int64  \n",
      " 66  pil_jabatan                 9 non-null      object \n",
      " 67  prosen_kecocokan            9 non-null      object \n",
      " 68  hasil_rekomendasi           9 non-null      object \n",
      " 69  Unnamed: 68                 0 non-null      float64\n",
      " 70  Unnamed: 69                 0 non-null      float64\n",
      " 71  Unnamed: 70                 0 non-null      float64\n",
      " 72  Unnamed: 71                 0 non-null      float64\n",
      " 73  Unnamed: 72                 0 non-null      float64\n",
      " 74  Unnamed: 73                 0 non-null      float64\n",
      " 75  Unnamed: 74                 0 non-null      float64\n",
      " 76  Unnamed: 75                 0 non-null      float64\n",
      " 77  Unnamed: 76                 0 non-null      float64\n",
      " 78  Unnamed: 77                 0 non-null      float64\n",
      "dtypes: float64(10), int64(58), object(11)\n",
      "memory usage: 5.7+ KB\n"
     ]
    }
   ],
   "source": [
    "df.info()"
   ],
   "metadata": {
    "collapsed": false,
    "pycharm": {
     "name": "#%%\n"
    }
   }
  },
  {
   "cell_type": "code",
   "execution_count": 6,
   "outputs": [
    {
     "data": {
      "text/plain": "       Unnamed: 0        MD        MI        MS        MC        LD  \\\ncount    9.000000  9.000000  9.000000  9.000000  9.000000  9.000000   \nmean     5.444444  2.111111  2.333333  2.444444  5.888889  4.111111   \nstd      3.205897  0.927961  1.224745  1.666667  1.054093  1.536591   \nmin      1.000000  1.000000  0.000000  0.000000  4.000000  1.000000   \n25%      3.000000  1.000000  2.000000  2.000000  5.000000  4.000000   \n50%      5.000000  2.000000  3.000000  3.000000  6.000000  4.000000   \n75%      8.000000  3.000000  3.000000  3.000000  7.000000  5.000000   \nmax     10.000000  3.000000  4.000000  5.000000  7.000000  6.000000   \n\n              LI        LS        LC        CD  ...  Unnamed: 68  Unnamed: 69  \\\ncount   9.000000  9.000000  9.000000  9.000000  ...          0.0          0.0   \nmean    6.222222  5.000000  4.000000  2.666667  ...          NaN          NaN   \nstd     2.773886  0.707107  1.414214  3.082207  ...          NaN          NaN   \nmin     4.000000  4.000000  1.000000 -2.000000  ...          NaN          NaN   \n25%     5.000000  5.000000  3.000000  0.000000  ...          NaN          NaN   \n50%     5.000000  5.000000  5.000000  3.000000  ...          NaN          NaN   \n75%     7.000000  5.000000  5.000000  4.000000  ...          NaN          NaN   \nmax    13.000000  6.000000  5.000000  7.000000  ...          NaN          NaN   \n\n       Unnamed: 70  Unnamed: 71  Unnamed: 72  Unnamed: 73  Unnamed: 74  \\\ncount          0.0          0.0          0.0          0.0          0.0   \nmean           NaN          NaN          NaN          NaN          NaN   \nstd            NaN          NaN          NaN          NaN          NaN   \nmin            NaN          NaN          NaN          NaN          NaN   \n25%            NaN          NaN          NaN          NaN          NaN   \n50%            NaN          NaN          NaN          NaN          NaN   \n75%            NaN          NaN          NaN          NaN          NaN   \nmax            NaN          NaN          NaN          NaN          NaN   \n\n       Unnamed: 75  Unnamed: 76  Unnamed: 77  \ncount          0.0          0.0          0.0  \nmean           NaN          NaN          NaN  \nstd            NaN          NaN          NaN  \nmin            NaN          NaN          NaN  \n25%            NaN          NaN          NaN  \n50%            NaN          NaN          NaN  \n75%            NaN          NaN          NaN  \nmax            NaN          NaN          NaN  \n\n[8 rows x 68 columns]",
      "text/html": "<div>\n<style scoped>\n    .dataframe tbody tr th:only-of-type {\n        vertical-align: middle;\n    }\n\n    .dataframe tbody tr th {\n        vertical-align: top;\n    }\n\n    .dataframe thead th {\n        text-align: right;\n    }\n</style>\n<table border=\"1\" class=\"dataframe\">\n  <thead>\n    <tr style=\"text-align: right;\">\n      <th></th>\n      <th>Unnamed: 0</th>\n      <th>MD</th>\n      <th>MI</th>\n      <th>MS</th>\n      <th>MC</th>\n      <th>LD</th>\n      <th>LI</th>\n      <th>LS</th>\n      <th>LC</th>\n      <th>CD</th>\n      <th>...</th>\n      <th>Unnamed: 68</th>\n      <th>Unnamed: 69</th>\n      <th>Unnamed: 70</th>\n      <th>Unnamed: 71</th>\n      <th>Unnamed: 72</th>\n      <th>Unnamed: 73</th>\n      <th>Unnamed: 74</th>\n      <th>Unnamed: 75</th>\n      <th>Unnamed: 76</th>\n      <th>Unnamed: 77</th>\n    </tr>\n  </thead>\n  <tbody>\n    <tr>\n      <th>count</th>\n      <td>9.000000</td>\n      <td>9.000000</td>\n      <td>9.000000</td>\n      <td>9.000000</td>\n      <td>9.000000</td>\n      <td>9.000000</td>\n      <td>9.000000</td>\n      <td>9.000000</td>\n      <td>9.000000</td>\n      <td>9.000000</td>\n      <td>...</td>\n      <td>0.0</td>\n      <td>0.0</td>\n      <td>0.0</td>\n      <td>0.0</td>\n      <td>0.0</td>\n      <td>0.0</td>\n      <td>0.0</td>\n      <td>0.0</td>\n      <td>0.0</td>\n      <td>0.0</td>\n    </tr>\n    <tr>\n      <th>mean</th>\n      <td>5.444444</td>\n      <td>2.111111</td>\n      <td>2.333333</td>\n      <td>2.444444</td>\n      <td>5.888889</td>\n      <td>4.111111</td>\n      <td>6.222222</td>\n      <td>5.000000</td>\n      <td>4.000000</td>\n      <td>2.666667</td>\n      <td>...</td>\n      <td>NaN</td>\n      <td>NaN</td>\n      <td>NaN</td>\n      <td>NaN</td>\n      <td>NaN</td>\n      <td>NaN</td>\n      <td>NaN</td>\n      <td>NaN</td>\n      <td>NaN</td>\n      <td>NaN</td>\n    </tr>\n    <tr>\n      <th>std</th>\n      <td>3.205897</td>\n      <td>0.927961</td>\n      <td>1.224745</td>\n      <td>1.666667</td>\n      <td>1.054093</td>\n      <td>1.536591</td>\n      <td>2.773886</td>\n      <td>0.707107</td>\n      <td>1.414214</td>\n      <td>3.082207</td>\n      <td>...</td>\n      <td>NaN</td>\n      <td>NaN</td>\n      <td>NaN</td>\n      <td>NaN</td>\n      <td>NaN</td>\n      <td>NaN</td>\n      <td>NaN</td>\n      <td>NaN</td>\n      <td>NaN</td>\n      <td>NaN</td>\n    </tr>\n    <tr>\n      <th>min</th>\n      <td>1.000000</td>\n      <td>1.000000</td>\n      <td>0.000000</td>\n      <td>0.000000</td>\n      <td>4.000000</td>\n      <td>1.000000</td>\n      <td>4.000000</td>\n      <td>4.000000</td>\n      <td>1.000000</td>\n      <td>-2.000000</td>\n      <td>...</td>\n      <td>NaN</td>\n      <td>NaN</td>\n      <td>NaN</td>\n      <td>NaN</td>\n      <td>NaN</td>\n      <td>NaN</td>\n      <td>NaN</td>\n      <td>NaN</td>\n      <td>NaN</td>\n      <td>NaN</td>\n    </tr>\n    <tr>\n      <th>25%</th>\n      <td>3.000000</td>\n      <td>1.000000</td>\n      <td>2.000000</td>\n      <td>2.000000</td>\n      <td>5.000000</td>\n      <td>4.000000</td>\n      <td>5.000000</td>\n      <td>5.000000</td>\n      <td>3.000000</td>\n      <td>0.000000</td>\n      <td>...</td>\n      <td>NaN</td>\n      <td>NaN</td>\n      <td>NaN</td>\n      <td>NaN</td>\n      <td>NaN</td>\n      <td>NaN</td>\n      <td>NaN</td>\n      <td>NaN</td>\n      <td>NaN</td>\n      <td>NaN</td>\n    </tr>\n    <tr>\n      <th>50%</th>\n      <td>5.000000</td>\n      <td>2.000000</td>\n      <td>3.000000</td>\n      <td>3.000000</td>\n      <td>6.000000</td>\n      <td>4.000000</td>\n      <td>5.000000</td>\n      <td>5.000000</td>\n      <td>5.000000</td>\n      <td>3.000000</td>\n      <td>...</td>\n      <td>NaN</td>\n      <td>NaN</td>\n      <td>NaN</td>\n      <td>NaN</td>\n      <td>NaN</td>\n      <td>NaN</td>\n      <td>NaN</td>\n      <td>NaN</td>\n      <td>NaN</td>\n      <td>NaN</td>\n    </tr>\n    <tr>\n      <th>75%</th>\n      <td>8.000000</td>\n      <td>3.000000</td>\n      <td>3.000000</td>\n      <td>3.000000</td>\n      <td>7.000000</td>\n      <td>5.000000</td>\n      <td>7.000000</td>\n      <td>5.000000</td>\n      <td>5.000000</td>\n      <td>4.000000</td>\n      <td>...</td>\n      <td>NaN</td>\n      <td>NaN</td>\n      <td>NaN</td>\n      <td>NaN</td>\n      <td>NaN</td>\n      <td>NaN</td>\n      <td>NaN</td>\n      <td>NaN</td>\n      <td>NaN</td>\n      <td>NaN</td>\n    </tr>\n    <tr>\n      <th>max</th>\n      <td>10.000000</td>\n      <td>3.000000</td>\n      <td>4.000000</td>\n      <td>5.000000</td>\n      <td>7.000000</td>\n      <td>6.000000</td>\n      <td>13.000000</td>\n      <td>6.000000</td>\n      <td>5.000000</td>\n      <td>7.000000</td>\n      <td>...</td>\n      <td>NaN</td>\n      <td>NaN</td>\n      <td>NaN</td>\n      <td>NaN</td>\n      <td>NaN</td>\n      <td>NaN</td>\n      <td>NaN</td>\n      <td>NaN</td>\n      <td>NaN</td>\n      <td>NaN</td>\n    </tr>\n  </tbody>\n</table>\n<p>8 rows × 68 columns</p>\n</div>"
     },
     "execution_count": 6,
     "metadata": {},
     "output_type": "execute_result"
    }
   ],
   "source": [
    "df.describe()"
   ],
   "metadata": {
    "collapsed": false,
    "pycharm": {
     "name": "#%%\n"
    }
   }
  },
  {
   "cell_type": "code",
   "execution_count": 116,
   "outputs": [
    {
     "data": {
      "text/plain": "array([2, 3, 1, 0], dtype=int64)"
     },
     "execution_count": 116,
     "metadata": {},
     "output_type": "execute_result"
    }
   ],
   "source": [
    "df.MD.unique()"
   ],
   "metadata": {
    "collapsed": false,
    "pycharm": {
     "name": "#%%\n"
    }
   }
  },
  {
   "cell_type": "code",
   "execution_count": 111,
   "outputs": [
    {
     "data": {
      "text/plain": "                            Email  \\\n0   ariefwijayakusuma96@gmail.com   \n1             atkamliaa@gmail.com   \n2       deri45anggraini@gmail.com   \n3       elisabethda1994@gmail.com   \n4         jordyrevindra@gmail.com   \n..                            ...   \n89          adzkiaaulia@gmail.com   \n90          davidacroos@gmail.com   \n91          deapandhita@gmail.com   \n92    dhiaulfa.thufaila@gmail.com   \n93      dwidanaribrahim@gmail.com   \n\n                                                  key  \\\n0   network administrator permanent address custom...   \n1   human capital trainer credit assistant marketi...   \n2   commissioner deputy head of public relations d...   \n3                  hrd staff hr human capital student   \n4   head division of public relations business pro...   \n..                                                ...   \n89  secretary supporting services intern facilitat...   \n90  frontliner admin data entry operations manager...   \n91  logistic administration staff secretary senior...   \n92  human resources management financial manager p...   \n93  project management communication management hu...   \n\n                 Nama Peserta        MD  MI  MS  MC  LD  LI  LS  ...  \\\n0         Arief Wijaya Kusuma  0.071167   3   2   8   5   5   6  ...   \n1               Atikah Amalia  0.071167   3   2   6   4   5   5  ...   \n2        Deri Firma Anggraini  1.186114   2   3   7   4   4   5  ...   \n3     Elisabeth Dwi Anggraeni  1.186114   3   2   5   4   5   6  ...   \n4       Jordy Revindra Priana -1.043780   4   3   7   5   5   5  ...   \n..                        ...       ...  ..  ..  ..  ..  ..  ..  ...   \n89         Aulia Adzkia Fauzi  0.071167   2   2   6   5   6   4  ...   \n90              David Pratama  1.186114   2   3   4   9   6   4  ...   \n91  Regina Dea Pandhita Putri  0.071167   3   4   6   5   6   6  ...   \n92          Dhiaulfa Thufaila -1.043780   2   0   9   4   6   4  ...   \n93          DWI DANAR IBRAHIM  1.186114   3   3   4   5   4   8  ...   \n\n    KERJASAMA  KETERAMPILAN_INTERPERSONAL  LOGIKA_BERPIKIR  \\\n0           2                           2                4   \n1           3                           2                2   \n2           3                           2                5   \n3           3                           2                5   \n4           3                           3                2   \n..        ...                         ...              ...   \n89          2                           2                4   \n90          3                           3                3   \n91          3                           2                3   \n92          2                           2                2   \n93          2                           3                4   \n\n    MOTIVASI_BERPRESTASI  ORIENTASI_HASIL PENYELESAIAN_MASALAH  \\\n0                      3                3                    4   \n1                      3                2                    3   \n2                      3                3                    3   \n3                      3                3                    4   \n4                      2                2                    3   \n..                   ...              ...                  ...   \n89                     3                4                    4   \n90                     3                3                    4   \n91                     3                3                    3   \n92                     3                3                    4   \n93                     2                3                    3   \n\n   SISTEMATIKA_KERJA pil_jabatan prosen_kecocokan  hasil_rekomendasi  \n0                  3     standar              92%         Disarankan  \n1                  2     standar              79%    Dipertimbangkan  \n2                  3     standar              95%         Disarankan  \n3                  3     standar              95%         Disarankan  \n4                  3     standar              85%         Disarankan  \n..               ...         ...              ...                ...  \n89                 3     standar              92%         Disarankan  \n90                 2     standar              95%         Disarankan  \n91                 3     standar              95%         Disarankan  \n92                 3     standar              87%         Disarankan  \n93                 3     standar              92%         Disarankan  \n\n[94 rows x 67 columns]",
      "text/html": "<div>\n<style scoped>\n    .dataframe tbody tr th:only-of-type {\n        vertical-align: middle;\n    }\n\n    .dataframe tbody tr th {\n        vertical-align: top;\n    }\n\n    .dataframe thead th {\n        text-align: right;\n    }\n</style>\n<table border=\"1\" class=\"dataframe\">\n  <thead>\n    <tr style=\"text-align: right;\">\n      <th></th>\n      <th>Email</th>\n      <th>key</th>\n      <th>Nama Peserta</th>\n      <th>MD</th>\n      <th>MI</th>\n      <th>MS</th>\n      <th>MC</th>\n      <th>LD</th>\n      <th>LI</th>\n      <th>LS</th>\n      <th>...</th>\n      <th>KERJASAMA</th>\n      <th>KETERAMPILAN_INTERPERSONAL</th>\n      <th>LOGIKA_BERPIKIR</th>\n      <th>MOTIVASI_BERPRESTASI</th>\n      <th>ORIENTASI_HASIL</th>\n      <th>PENYELESAIAN_MASALAH</th>\n      <th>SISTEMATIKA_KERJA</th>\n      <th>pil_jabatan</th>\n      <th>prosen_kecocokan</th>\n      <th>hasil_rekomendasi</th>\n    </tr>\n  </thead>\n  <tbody>\n    <tr>\n      <th>0</th>\n      <td>ariefwijayakusuma96@gmail.com</td>\n      <td>network administrator permanent address custom...</td>\n      <td>Arief Wijaya Kusuma</td>\n      <td>0.071167</td>\n      <td>3</td>\n      <td>2</td>\n      <td>8</td>\n      <td>5</td>\n      <td>5</td>\n      <td>6</td>\n      <td>...</td>\n      <td>2</td>\n      <td>2</td>\n      <td>4</td>\n      <td>3</td>\n      <td>3</td>\n      <td>4</td>\n      <td>3</td>\n      <td>standar</td>\n      <td>92%</td>\n      <td>Disarankan</td>\n    </tr>\n    <tr>\n      <th>1</th>\n      <td>atkamliaa@gmail.com</td>\n      <td>human capital trainer credit assistant marketi...</td>\n      <td>Atikah Amalia</td>\n      <td>0.071167</td>\n      <td>3</td>\n      <td>2</td>\n      <td>6</td>\n      <td>4</td>\n      <td>5</td>\n      <td>5</td>\n      <td>...</td>\n      <td>3</td>\n      <td>2</td>\n      <td>2</td>\n      <td>3</td>\n      <td>2</td>\n      <td>3</td>\n      <td>2</td>\n      <td>standar</td>\n      <td>79%</td>\n      <td>Dipertimbangkan</td>\n    </tr>\n    <tr>\n      <th>2</th>\n      <td>deri45anggraini@gmail.com</td>\n      <td>commissioner deputy head of public relations d...</td>\n      <td>Deri Firma Anggraini</td>\n      <td>1.186114</td>\n      <td>2</td>\n      <td>3</td>\n      <td>7</td>\n      <td>4</td>\n      <td>4</td>\n      <td>5</td>\n      <td>...</td>\n      <td>3</td>\n      <td>2</td>\n      <td>5</td>\n      <td>3</td>\n      <td>3</td>\n      <td>3</td>\n      <td>3</td>\n      <td>standar</td>\n      <td>95%</td>\n      <td>Disarankan</td>\n    </tr>\n    <tr>\n      <th>3</th>\n      <td>elisabethda1994@gmail.com</td>\n      <td>hrd staff hr human capital student</td>\n      <td>Elisabeth Dwi Anggraeni</td>\n      <td>1.186114</td>\n      <td>3</td>\n      <td>2</td>\n      <td>5</td>\n      <td>4</td>\n      <td>5</td>\n      <td>6</td>\n      <td>...</td>\n      <td>3</td>\n      <td>2</td>\n      <td>5</td>\n      <td>3</td>\n      <td>3</td>\n      <td>4</td>\n      <td>3</td>\n      <td>standar</td>\n      <td>95%</td>\n      <td>Disarankan</td>\n    </tr>\n    <tr>\n      <th>4</th>\n      <td>jordyrevindra@gmail.com</td>\n      <td>head division of public relations business pro...</td>\n      <td>Jordy Revindra Priana</td>\n      <td>-1.043780</td>\n      <td>4</td>\n      <td>3</td>\n      <td>7</td>\n      <td>5</td>\n      <td>5</td>\n      <td>5</td>\n      <td>...</td>\n      <td>3</td>\n      <td>3</td>\n      <td>2</td>\n      <td>2</td>\n      <td>2</td>\n      <td>3</td>\n      <td>3</td>\n      <td>standar</td>\n      <td>85%</td>\n      <td>Disarankan</td>\n    </tr>\n    <tr>\n      <th>...</th>\n      <td>...</td>\n      <td>...</td>\n      <td>...</td>\n      <td>...</td>\n      <td>...</td>\n      <td>...</td>\n      <td>...</td>\n      <td>...</td>\n      <td>...</td>\n      <td>...</td>\n      <td>...</td>\n      <td>...</td>\n      <td>...</td>\n      <td>...</td>\n      <td>...</td>\n      <td>...</td>\n      <td>...</td>\n      <td>...</td>\n      <td>...</td>\n      <td>...</td>\n      <td>...</td>\n    </tr>\n    <tr>\n      <th>89</th>\n      <td>adzkiaaulia@gmail.com</td>\n      <td>secretary supporting services intern facilitat...</td>\n      <td>Aulia Adzkia Fauzi</td>\n      <td>0.071167</td>\n      <td>2</td>\n      <td>2</td>\n      <td>6</td>\n      <td>5</td>\n      <td>6</td>\n      <td>4</td>\n      <td>...</td>\n      <td>2</td>\n      <td>2</td>\n      <td>4</td>\n      <td>3</td>\n      <td>4</td>\n      <td>4</td>\n      <td>3</td>\n      <td>standar</td>\n      <td>92%</td>\n      <td>Disarankan</td>\n    </tr>\n    <tr>\n      <th>90</th>\n      <td>davidacroos@gmail.com</td>\n      <td>frontliner admin data entry operations manager...</td>\n      <td>David Pratama</td>\n      <td>1.186114</td>\n      <td>2</td>\n      <td>3</td>\n      <td>4</td>\n      <td>9</td>\n      <td>6</td>\n      <td>4</td>\n      <td>...</td>\n      <td>3</td>\n      <td>3</td>\n      <td>3</td>\n      <td>3</td>\n      <td>3</td>\n      <td>4</td>\n      <td>2</td>\n      <td>standar</td>\n      <td>95%</td>\n      <td>Disarankan</td>\n    </tr>\n    <tr>\n      <th>91</th>\n      <td>deapandhita@gmail.com</td>\n      <td>logistic administration staff secretary senior...</td>\n      <td>Regina Dea Pandhita Putri</td>\n      <td>0.071167</td>\n      <td>3</td>\n      <td>4</td>\n      <td>6</td>\n      <td>5</td>\n      <td>6</td>\n      <td>6</td>\n      <td>...</td>\n      <td>3</td>\n      <td>2</td>\n      <td>3</td>\n      <td>3</td>\n      <td>3</td>\n      <td>3</td>\n      <td>3</td>\n      <td>standar</td>\n      <td>95%</td>\n      <td>Disarankan</td>\n    </tr>\n    <tr>\n      <th>92</th>\n      <td>dhiaulfa.thufaila@gmail.com</td>\n      <td>human resources management financial manager p...</td>\n      <td>Dhiaulfa Thufaila</td>\n      <td>-1.043780</td>\n      <td>2</td>\n      <td>0</td>\n      <td>9</td>\n      <td>4</td>\n      <td>6</td>\n      <td>4</td>\n      <td>...</td>\n      <td>2</td>\n      <td>2</td>\n      <td>2</td>\n      <td>3</td>\n      <td>3</td>\n      <td>4</td>\n      <td>3</td>\n      <td>standar</td>\n      <td>87%</td>\n      <td>Disarankan</td>\n    </tr>\n    <tr>\n      <th>93</th>\n      <td>dwidanaribrahim@gmail.com</td>\n      <td>project management communication management hu...</td>\n      <td>DWI DANAR IBRAHIM</td>\n      <td>1.186114</td>\n      <td>3</td>\n      <td>3</td>\n      <td>4</td>\n      <td>5</td>\n      <td>4</td>\n      <td>8</td>\n      <td>...</td>\n      <td>2</td>\n      <td>3</td>\n      <td>4</td>\n      <td>2</td>\n      <td>3</td>\n      <td>3</td>\n      <td>3</td>\n      <td>standar</td>\n      <td>92%</td>\n      <td>Disarankan</td>\n    </tr>\n  </tbody>\n</table>\n<p>94 rows × 67 columns</p>\n</div>"
     },
     "execution_count": 111,
     "metadata": {},
     "output_type": "execute_result"
    }
   ],
   "source": [
    "ss = StandardScaler()\n",
    "\n",
    "ss.fit(df[['MD']])\n",
    "\n",
    "df['MD'] = ss.transform(df.loc[:, [\"MD\"]])\n",
    "df"
   ],
   "metadata": {
    "collapsed": false,
    "pycharm": {
     "name": "#%%\n"
    }
   }
  },
  {
   "cell_type": "markdown",
   "source": [
    "TENSORFLOW"
   ],
   "metadata": {
    "collapsed": false,
    "pycharm": {
     "name": "#%% md\n"
    }
   }
  },
  {
   "cell_type": "code",
   "execution_count": 14,
   "outputs": [],
   "source": [
    "def seq_and_pad(sentences, tokenizer):\n",
    "    sequences = tokenizer.texts_to_sequences(sentences)\n",
    "\n",
    "    padded_sequences = pad_sequences(sequences, maxlen=100, padding='post')\n",
    "\n",
    "    return padded_sequences\n",
    "\n",
    "def plot_graphs(history, metric):\n",
    "    plt.plot(history.history[metric])\n",
    "    plt.plot(history.history[f'val_{metric}'])\n",
    "    plt.xlabel(\"Epochs\")\n",
    "    plt.ylabel(metric)\n",
    "    plt.legend([metric, f'val_{metric}'])\n",
    "    plt.show()"
   ],
   "metadata": {
    "collapsed": false,
    "pycharm": {
     "name": "#%%\n"
    }
   }
  },
  {
   "cell_type": "markdown",
   "source": [
    "TOKENIZER"
   ],
   "metadata": {
    "collapsed": false,
    "pycharm": {
     "name": "#%% md\n"
    }
   }
  },
  {
   "cell_type": "code",
   "execution_count": 23,
   "outputs": [],
   "source": [
    "feature = []\n",
    "label = []\n",
    "\n",
    "for i, row in df.iterrows():\n",
    "    feature.append(df.at[i, 'key'])\n",
    "    label.append(df.at[i, 'MD'])\n",
    "\n",
    "feature_train = feature\n",
    "feature_test = feature[85:]\n",
    "\n",
    "label_train = label\n",
    "label_test = label[85:]\n",
    "\n",
    "tokenizer = Tokenizer(num_words=1000, oov_token='OOV')\n",
    "tokenizer.fit_on_texts(feature)\n",
    "\n",
    "feature_train = np.asarray(seq_and_pad(feature_train, tokenizer))\n",
    "feature_test = np.asarray(seq_and_pad(feature_test, tokenizer))\n",
    "\n",
    "label_train = np.array(label_train)\n",
    "label_test = np.asarray(label_test)\n",
    "\n",
    "callback = keras.callbacks.EarlyStopping(monitor='loss', patience=3)"
   ],
   "metadata": {
    "collapsed": false,
    "pycharm": {
     "name": "#%%\n"
    }
   }
  },
  {
   "cell_type": "code",
   "execution_count": 24,
   "outputs": [
    {
     "name": "stdout",
     "output_type": "stream",
     "text": [
      "[[250 251  20  23 252 253  23 122 254 255   4 123   6  42   4   3  17  41\n",
      "   72   4  36  37  20   2 256 124  43 257 258 259 260 106 261  19  64 262\n",
      "   37 102 103  37   2 104  73 125  70  11 263   2 264  74   2 265 266  16\n",
      "    3 267  44 268 269 270 271  24  45 126 272  65 273   7  74   2  75 274\n",
      "    2 275  27 276   2 277 109  10  74   5   3 127 278   2  71  27  76 279\n",
      "   25 280 281   2 282   2  77 124  43 283]\n",
      " [ 14 284 285  58 286 128 287  13   6 288 289 290 291 292   3 293   6  12\n",
      "    7 129 130 294  78   6 129 130  79 295 296   2 131  80 297 132 298  81\n",
      "    3 132 299  46  79   3 118   5  82 300   5 301  81   0   0   0   0   0\n",
      "    0   0   0   0   0   0   0   0   0   0   0   0   0   0   0   0   0   0\n",
      "    0   0   0   0   0   0   0   0   0   0   0   0   0   0   0   0   0   0\n",
      "    0   0   0   0   0   0   0   0   0   0]\n",
      " [108 133   6   3  26  47  29   6 302  11  18 303   7 304   5 134  83 305\n",
      "  306  19 307 135  21 308  19 309 135  11   0   0   0   0   0   0   0   0\n",
      "    0   0   0   0   0   0   0   0   0   0   0   0   0   0   0   0   0   0\n",
      "    0   0   0   0   0   0   0   0   0   0   0   0   0   0   0   0   0   0\n",
      "    0   0   0   0   0   0   0   0   0   0   0   0   0   0   0   0   0   0\n",
      "    0   0   0   0   0   0   0   0   0   0]\n",
      " [ 48 317  48 318   4 319  20 320   4   3 321  29  22   8  49  30   4 137\n",
      "  138 128  78   5  75  78   7  50 139 322  27  59  67  75 323 324   6   3\n",
      "  325 326   7  50 138   7   9 327 139  49  30   4  51 140 328  31 329   5\n",
      "  141 330 331 140  67  82 332   5  50 333   4   3  41   6   3 127  17 334\n",
      "   49  30   4  51 335 142  31 336   3  46   6 337   2 143 338 339 340  76\n",
      "  341   5 342 343 344   8 345  16   3  15]\n",
      " [  6   3  15   5  77  40 366 367 172  81  12 368   5 369  23   2 370 371\n",
      "   32  22   8  32 372   2 160 162   3 163 164  15   2 165 166  36   2 167\n",
      "    3 168  16 169 170 373  34 144 374 173 375  88 174 376 175  48 175  89\n",
      "  377  29   6  26  47  25  26  47   4 142 378   2 379  26  47  35   2  66\n",
      "   19   3 380   5 381   9 382 383 384 385 386   2 387  88 174 388 389  66\n",
      "  390   2  25  90  53  10   2 391  63  35]\n",
      " [392 173  88 393 394  11 395 396 397 398 399  17 400 401 402 137  39 403\n",
      "    2 404   3 405   6  17 176   4 406  33   3 177 407   2 408 409   3 410\n",
      "    6   3  34 411   9 412   6 413   2 414 415   5 416 417 418 419  39   5\n",
      "  420 421 176   0   0   0   0   0   0   0   0   0   0   0   0   0   0   0\n",
      "    0   0   0   0   0   0   0   0   0   0   0   0   0   0   0   0   0   0\n",
      "    0   0   0   0   0   0   0   0   0   0]\n",
      " [444 445 446  64 447 120 448  13 178  14 449 450 451 452  25 182  13 453\n",
      "    2  35 454  33 183   5 455  13 456   2 457 458  10 459 460  31 461 462\n",
      "    2 184 463   3 185 464 465 466 186   5  91 467 468 469 470 187 471 472\n",
      "  473 474 475 476 477   2 478   5 184 179 479   9 480   6 481 105 172 482\n",
      "    2  10   9 183   5 483  42 484   2 485  17   5 486 487   4   9 488 489\n",
      "  490 491 187 492 493 185   5  68  15  12]\n",
      " [ 43  10 537  42 538 539 540 541  72   4 542 158  45  42 543   3 131 544\n",
      "    6 545 193 546  93 191 192  94  73  21  49  44  35   4 547 194  38   8\n",
      "    3 548  29 133  91   3  69   6   3 194  45  65 549  93  94 550  11  52\n",
      "   44  69  79 107 551 552   4 553 554  72   4  44  35 134 555 556 557 558\n",
      "   93 559 560 125  73  11  25   3 177 561 562  77   9 188   7  90  83   6\n",
      "    3  34 563 564   4  90  83   6   3  34]\n",
      " [193 574   7  50 575 576 577 114   7   3 578  20   2  84  85 579  29  34\n",
      "    2  94  26 580   6 581 582   5  82 583 196  16 584  95  96  89   8   9\n",
      "  585 586   7 587   8   9 588 589   7   3  53 590   3  53  10  45 126  13\n",
      "    6 591   6 190  26 592 196  16 593  95  96  89  38   7 594 197   7   3\n",
      "   53 181 595  12 197   2 596  80 195  30   4 597 598  95  96  48 599  86\n",
      "   18   7  51   9 600 601 602 603   2 604]]\n"
     ]
    }
   ],
   "source": [
    "print(feature_train)"
   ],
   "metadata": {
    "collapsed": false,
    "pycharm": {
     "name": "#%%\n"
    }
   }
  },
  {
   "cell_type": "markdown",
   "source": [
    "MEAN ABSOLUTE ERROR"
   ],
   "metadata": {
    "collapsed": false,
    "pycharm": {
     "name": "#%% md\n"
    }
   }
  },
  {
   "cell_type": "code",
   "execution_count": 25,
   "outputs": [
    {
     "name": "stdout",
     "output_type": "stream",
     "text": [
      "Epoch 1/300\n",
      "1/1 - 2s - loss: 2.1132 - 2s/epoch - 2s/step\n",
      "Epoch 2/300\n",
      "1/1 - 0s - loss: 2.0021 - 7ms/epoch - 7ms/step\n",
      "Epoch 3/300\n",
      "1/1 - 0s - loss: 2.0424 - 6ms/epoch - 6ms/step\n",
      "Epoch 4/300\n",
      "1/1 - 0s - loss: 1.9774 - 3ms/epoch - 3ms/step\n",
      "Epoch 5/300\n",
      "1/1 - 0s - loss: 2.0075 - 5ms/epoch - 5ms/step\n",
      "Epoch 6/300\n",
      "1/1 - 0s - loss: 1.9184 - 7ms/epoch - 7ms/step\n",
      "Epoch 7/300\n",
      "1/1 - 0s - loss: 1.9287 - 4ms/epoch - 4ms/step\n",
      "Epoch 8/300\n",
      "1/1 - 0s - loss: 1.9143 - 6ms/epoch - 6ms/step\n",
      "Epoch 9/300\n",
      "1/1 - 0s - loss: 1.9129 - 8ms/epoch - 8ms/step\n",
      "Epoch 10/300\n",
      "1/1 - 0s - loss: 1.8985 - 4ms/epoch - 4ms/step\n",
      "Epoch 11/300\n",
      "1/1 - 0s - loss: 1.8970 - 6ms/epoch - 6ms/step\n",
      "Epoch 12/300\n",
      "1/1 - 0s - loss: 1.8275 - 7ms/epoch - 7ms/step\n",
      "Epoch 13/300\n",
      "1/1 - 0s - loss: 1.8422 - 7ms/epoch - 7ms/step\n",
      "Epoch 14/300\n",
      "1/1 - 0s - loss: 1.8347 - 8ms/epoch - 8ms/step\n",
      "Epoch 15/300\n",
      "1/1 - 0s - loss: 1.8064 - 5ms/epoch - 5ms/step\n",
      "Epoch 16/300\n",
      "1/1 - 0s - loss: 1.6964 - 6ms/epoch - 6ms/step\n",
      "Epoch 17/300\n",
      "1/1 - 0s - loss: 1.6672 - 6ms/epoch - 6ms/step\n",
      "Epoch 18/300\n",
      "1/1 - 0s - loss: 1.6269 - 5ms/epoch - 5ms/step\n",
      "Epoch 19/300\n",
      "1/1 - 0s - loss: 1.6823 - 4ms/epoch - 4ms/step\n",
      "Epoch 20/300\n",
      "1/1 - 0s - loss: 1.5800 - 6ms/epoch - 6ms/step\n",
      "Epoch 21/300\n",
      "1/1 - 0s - loss: 1.5537 - 5ms/epoch - 5ms/step\n",
      "Epoch 22/300\n",
      "1/1 - 0s - loss: 1.5784 - 7ms/epoch - 7ms/step\n",
      "Epoch 23/300\n",
      "1/1 - 0s - loss: 1.5227 - 4ms/epoch - 4ms/step\n",
      "Epoch 24/300\n",
      "1/1 - 0s - loss: 1.4687 - 6ms/epoch - 6ms/step\n",
      "Epoch 25/300\n",
      "1/1 - 0s - loss: 1.4280 - 5ms/epoch - 5ms/step\n",
      "Epoch 26/300\n",
      "1/1 - 0s - loss: 1.5091 - 5ms/epoch - 5ms/step\n",
      "Epoch 27/300\n",
      "1/1 - 0s - loss: 1.3992 - 7ms/epoch - 7ms/step\n",
      "Epoch 28/300\n",
      "1/1 - 0s - loss: 1.4724 - 7ms/epoch - 7ms/step\n",
      "Epoch 29/300\n",
      "1/1 - 0s - loss: 1.4743 - 7ms/epoch - 7ms/step\n",
      "Epoch 30/300\n",
      "1/1 - 0s - loss: 1.4713 - 5ms/epoch - 5ms/step\n"
     ]
    },
    {
     "ename": "KeyError",
     "evalue": "'val_loss'",
     "output_type": "error",
     "traceback": [
      "\u001B[1;31m---------------------------------------------------------------------------\u001B[0m",
      "\u001B[1;31mKeyError\u001B[0m                                  Traceback (most recent call last)",
      "Input \u001B[1;32mIn [25]\u001B[0m, in \u001B[0;36m<cell line: 21>\u001B[1;34m()\u001B[0m\n\u001B[0;32m     13\u001B[0m \u001B[38;5;66;03m# Print the model summary\u001B[39;00m\n\u001B[0;32m     14\u001B[0m history \u001B[38;5;241m=\u001B[39m model1\u001B[38;5;241m.\u001B[39mfit(feature_train,\n\u001B[0;32m     15\u001B[0m                     label_train,\n\u001B[0;32m     16\u001B[0m                     epochs\u001B[38;5;241m=\u001B[39m\u001B[38;5;241m300\u001B[39m,\n\u001B[0;32m     17\u001B[0m                     \u001B[38;5;66;03m# validation_data=(feature_test, label_test),\u001B[39;00m\n\u001B[0;32m     18\u001B[0m                     verbose\u001B[38;5;241m=\u001B[39m\u001B[38;5;241m2\u001B[39m,\n\u001B[0;32m     19\u001B[0m                     callbacks\u001B[38;5;241m=\u001B[39m[callback])\n\u001B[1;32m---> 21\u001B[0m \u001B[43mplot_graphs\u001B[49m\u001B[43m(\u001B[49m\u001B[43mhistory\u001B[49m\u001B[43m,\u001B[49m\u001B[43m \u001B[49m\u001B[38;5;124;43m'\u001B[39;49m\u001B[38;5;124;43mloss\u001B[39;49m\u001B[38;5;124;43m'\u001B[39;49m\u001B[43m)\u001B[49m\n",
      "Input \u001B[1;32mIn [14]\u001B[0m, in \u001B[0;36mplot_graphs\u001B[1;34m(history, metric)\u001B[0m\n\u001B[0;32m      8\u001B[0m \u001B[38;5;28;01mdef\u001B[39;00m \u001B[38;5;21mplot_graphs\u001B[39m(history, metric):\n\u001B[0;32m      9\u001B[0m     plt\u001B[38;5;241m.\u001B[39mplot(history\u001B[38;5;241m.\u001B[39mhistory[metric])\n\u001B[1;32m---> 10\u001B[0m     plt\u001B[38;5;241m.\u001B[39mplot(\u001B[43mhistory\u001B[49m\u001B[38;5;241;43m.\u001B[39;49m\u001B[43mhistory\u001B[49m\u001B[43m[\u001B[49m\u001B[38;5;124;43mf\u001B[39;49m\u001B[38;5;124;43m'\u001B[39;49m\u001B[38;5;124;43mval_\u001B[39;49m\u001B[38;5;132;43;01m{\u001B[39;49;00m\u001B[43mmetric\u001B[49m\u001B[38;5;132;43;01m}\u001B[39;49;00m\u001B[38;5;124;43m'\u001B[39;49m\u001B[43m]\u001B[49m)\n\u001B[0;32m     11\u001B[0m     plt\u001B[38;5;241m.\u001B[39mxlabel(\u001B[38;5;124m\"\u001B[39m\u001B[38;5;124mEpochs\u001B[39m\u001B[38;5;124m\"\u001B[39m)\n\u001B[0;32m     12\u001B[0m     plt\u001B[38;5;241m.\u001B[39mylabel(metric)\n",
      "\u001B[1;31mKeyError\u001B[0m: 'val_loss'"
     ]
    },
    {
     "data": {
      "text/plain": "<Figure size 432x288 with 1 Axes>",
      "image/png": "[encoded data removed]"
     },
     "metadata": {
      "needs_background": "light"
     },
     "output_type": "display_data"
    }
   ],
   "source": [
    "model1 = tf.keras.Sequential([\n",
    "    tf.keras.layers.Embedding(1000, 16, input_length=100),\n",
    "    tf.keras.layers.Conv1D(32, 3, activation='relu'),\n",
    "    tf.keras.layers.GlobalMaxPooling1D(),\n",
    "    tf.keras.layers.Dropout(0.6),\n",
    "    tf.keras.layers.Dense(8, activation='relu'),\n",
    "    tf.keras.layers.Dense(1)\n",
    "])\n",
    "\n",
    "# Set the training parameters\n",
    "model1.compile(loss=tf.keras.losses.MeanAbsoluteError(), optimizer='adam')\n",
    "\n",
    "# Print the model summary\n",
    "history = model1.fit(feature_train,\n",
    "                    label_train,\n",
    "                    epochs=300,\n",
    "                    # validation_data=(feature_test, label_test),\n",
    "                    verbose=2,\n",
    "                    callbacks=[callback])\n",
    "\n",
    "plot_graphs(history, 'loss')"
   ],
   "metadata": {
    "collapsed": false,
    "pycharm": {
     "name": "#%%\n"
    }
   }
  },
  {
   "cell_type": "code",
   "execution_count": 27,
   "outputs": [
    {
     "name": "stdout",
     "output_type": "stream",
     "text": [
      "1/1 [==============================] - 0s 212ms/step\n",
      "pred : 1 label : 2\n",
      "pred : 1 label : 3\n",
      "pred : 1 label : 3\n",
      "pred : 1 label : 1\n",
      "pred : 1 label : 1\n",
      "pred : 1 label : 2\n",
      "pred : 1 label : 1\n",
      "pred : 1 label : 3\n",
      "pred : 1 label : 3\n"
     ]
    }
   ],
   "source": [
    "# score1 = model1.evaluate(feature_test, label_test)\n",
    "\n",
    "pred = model1.predict(feature_train)\n",
    "result = datas = {'pred':pred, 'true':label_train}\n",
    "for i in range(len(label_train)):\n",
    "    print('pred : {} label : {}'.format(round(pred[i][0]), label[i]))"
   ],
   "metadata": {
    "collapsed": false,
    "pycharm": {
     "name": "#%%\n"
    }
   }
  },
  {
   "cell_type": "markdown",
   "source": [
    "MEAN SQUARED ERROR"
   ],
   "metadata": {
    "collapsed": false,
    "pycharm": {
     "name": "#%% md\n"
    }
   }
  },
  {
   "cell_type": "code",
   "execution_count": 10,
   "outputs": [
    {
     "name": "stdout",
     "output_type": "stream",
     "text": [
      "Epoch 1/300\n",
      "3/3 - 3s - loss: 4.2490 - val_loss: 5.2067 - 3s/epoch - 968ms/step\n",
      "Epoch 2/300\n",
      "3/3 - 0s - loss: 3.3267 - val_loss: 4.1833 - 65ms/epoch - 22ms/step\n",
      "Epoch 3/300\n",
      "3/3 - 0s - loss: 2.4714 - val_loss: 3.1494 - 129ms/epoch - 43ms/step\n",
      "Epoch 4/300\n",
      "3/3 - 0s - loss: 1.7569 - val_loss: 2.1240 - 139ms/epoch - 46ms/step\n",
      "Epoch 5/300\n",
      "3/3 - 0s - loss: 1.2166 - val_loss: 1.3078 - 89ms/epoch - 30ms/step\n",
      "Epoch 6/300\n",
      "3/3 - 0s - loss: 0.7860 - val_loss: 0.9015 - 137ms/epoch - 46ms/step\n",
      "Epoch 7/300\n",
      "3/3 - 0s - loss: 0.9267 - val_loss: 0.7850 - 211ms/epoch - 70ms/step\n",
      "Epoch 8/300\n",
      "3/3 - 0s - loss: 1.0275 - val_loss: 0.7549 - 127ms/epoch - 42ms/step\n",
      "Epoch 9/300\n",
      "3/3 - 0s - loss: 0.9555 - val_loss: 0.8146 - 74ms/epoch - 25ms/step\n",
      "Epoch 10/300\n",
      "3/3 - 0s - loss: 0.6611 - val_loss: 0.9688 - 71ms/epoch - 24ms/step\n",
      "Epoch 11/300\n",
      "3/3 - 0s - loss: 0.6740 - val_loss: 1.1230 - 84ms/epoch - 28ms/step\n"
     ]
    },
    {
     "data": {
      "text/plain": "<Figure size 432x288 with 1 Axes>",
      "image/png": "[encoded data removed]"
     },
     "metadata": {
      "needs_background": "light"
     },
     "output_type": "display_data"
    }
   ],
   "source": [
    "model2 = tf.keras.Sequential([\n",
    "    tf.keras.layers.Embedding(1000, 150, input_length=20),\n",
    "    tf.keras.layers.Conv1D(256, 3, activation='relu'),\n",
    "    tf.keras.layers.GlobalMaxPooling1D(),\n",
    "    tf.keras.layers.Dropout(0.7),\n",
    "    tf.keras.layers.Dense(64, activation='relu'),\n",
    "    tf.keras.layers.Dense(1)\n",
    "])\n",
    "\n",
    "# Set the training parameters\n",
    "model2.compile(loss=tf.keras.losses.MeanSquaredError(), optimizer='adam')\n",
    "\n",
    "# Print the model summary\n",
    "history = model2.fit(feature_train,\n",
    "                    label_train,\n",
    "                    epochs=300,\n",
    "                    validation_data=(feature_test, label_test),\n",
    "                    verbose=2,\n",
    "                    callbacks=[callback])\n",
    "\n",
    "plot_graphs(history, 'loss')"
   ],
   "metadata": {
    "collapsed": false,
    "pycharm": {
     "name": "#%%\n"
    }
   }
  },
  {
   "cell_type": "code",
   "execution_count": 75,
   "outputs": [
    {
     "name": "stdout",
     "output_type": "stream",
     "text": [
      "1/1 [==============================] - 0s 34ms/step - loss: 3.3806\n",
      "1/1 [==============================] - 0s 20ms/step\n",
      "pred : 4 label : 5\n",
      "pred : 3 label : 5\n",
      "pred : 4 label : 6\n",
      "pred : 3 label : 6\n",
      "pred : 4 label : 4\n",
      "pred : 3 label : 4\n",
      "pred : 4 label : 3\n",
      "pred : 4 label : 5\n",
      "pred : 4 label : 4\n"
     ]
    }
   ],
   "source": [
    "score2 = model2.evaluate(feature_test, label_test)\n",
    "\n",
    "pred = model2.predict(feature_test)\n",
    "result = datas = {'pred':pred, 'true':label_test}\n",
    "for i in range(len(label_test)):\n",
    "    print('pred : {} label : {}'.format(round(pred[i][0]), label[i]))"
   ],
   "metadata": {
    "collapsed": false,
    "pycharm": {
     "name": "#%%\n"
    }
   }
  },
  {
   "cell_type": "markdown",
   "source": [
    "SPARSE CATEGORICAL CROSSENTROPY 1"
   ],
   "metadata": {
    "collapsed": false,
    "pycharm": {
     "name": "#%% md\n"
    }
   }
  },
  {
   "cell_type": "code",
   "execution_count": 11,
   "outputs": [
    {
     "name": "stdout",
     "output_type": "stream",
     "text": [
      "Epoch 1/300\n",
      "3/3 - 3s - loss: 1.3833 - accuracy: 0.2353 - val_loss: 1.3711 - val_accuracy: 0.3333 - 3s/epoch - 1s/step\n",
      "Epoch 2/300\n",
      "3/3 - 0s - loss: 1.3677 - accuracy: 0.3882 - val_loss: 1.3486 - val_accuracy: 0.3333 - 73ms/epoch - 24ms/step\n",
      "Epoch 3/300\n",
      "3/3 - 0s - loss: 1.3503 - accuracy: 0.3529 - val_loss: 1.3282 - val_accuracy: 0.3333 - 169ms/epoch - 56ms/step\n",
      "Epoch 4/300\n",
      "3/3 - 0s - loss: 1.3338 - accuracy: 0.3647 - val_loss: 1.3081 - val_accuracy: 0.3333 - 83ms/epoch - 28ms/step\n",
      "Epoch 5/300\n",
      "3/3 - 0s - loss: 1.3178 - accuracy: 0.4118 - val_loss: 1.2887 - val_accuracy: 0.3333 - 112ms/epoch - 37ms/step\n",
      "Epoch 6/300\n",
      "3/3 - 0s - loss: 1.3032 - accuracy: 0.4000 - val_loss: 1.2711 - val_accuracy: 0.3333 - 62ms/epoch - 21ms/step\n",
      "Epoch 7/300\n",
      "3/3 - 0s - loss: 1.2791 - accuracy: 0.3882 - val_loss: 1.2523 - val_accuracy: 0.3333 - 72ms/epoch - 24ms/step\n",
      "Epoch 8/300\n",
      "3/3 - 0s - loss: 1.2563 - accuracy: 0.3882 - val_loss: 1.2347 - val_accuracy: 0.3333 - 57ms/epoch - 19ms/step\n",
      "Epoch 9/300\n",
      "3/3 - 0s - loss: 1.2566 - accuracy: 0.3882 - val_loss: 1.2188 - val_accuracy: 0.3333 - 56ms/epoch - 19ms/step\n",
      "Epoch 10/300\n",
      "3/3 - 0s - loss: 1.2362 - accuracy: 0.3882 - val_loss: 1.2078 - val_accuracy: 0.3333 - 81ms/epoch - 27ms/step\n",
      "Epoch 11/300\n",
      "3/3 - 0s - loss: 1.2320 - accuracy: 0.3882 - val_loss: 1.1987 - val_accuracy: 0.3333 - 114ms/epoch - 38ms/step\n",
      "Epoch 12/300\n",
      "3/3 - 0s - loss: 1.2138 - accuracy: 0.3882 - val_loss: 1.1871 - val_accuracy: 0.3333 - 89ms/epoch - 30ms/step\n",
      "Epoch 13/300\n",
      "3/3 - 0s - loss: 1.2041 - accuracy: 0.3882 - val_loss: 1.1790 - val_accuracy: 0.3333 - 77ms/epoch - 26ms/step\n",
      "Epoch 14/300\n",
      "3/3 - 0s - loss: 1.2079 - accuracy: 0.3882 - val_loss: 1.1707 - val_accuracy: 0.3333 - 95ms/epoch - 32ms/step\n",
      "Epoch 15/300\n",
      "3/3 - 0s - loss: 1.1943 - accuracy: 0.3882 - val_loss: 1.1648 - val_accuracy: 0.3333 - 66ms/epoch - 22ms/step\n",
      "Epoch 16/300\n",
      "3/3 - 0s - loss: 1.1741 - accuracy: 0.4118 - val_loss: 1.1593 - val_accuracy: 0.3333 - 48ms/epoch - 16ms/step\n",
      "Epoch 17/300\n",
      "3/3 - 0s - loss: 1.1771 - accuracy: 0.4000 - val_loss: 1.1561 - val_accuracy: 0.3333 - 55ms/epoch - 18ms/step\n",
      "Epoch 18/300\n",
      "3/3 - 0s - loss: 1.1787 - accuracy: 0.4118 - val_loss: 1.1555 - val_accuracy: 0.3333 - 38ms/epoch - 13ms/step\n",
      "Epoch 19/300\n",
      "3/3 - 0s - loss: 1.1482 - accuracy: 0.4824 - val_loss: 1.1571 - val_accuracy: 0.3333 - 158ms/epoch - 53ms/step\n",
      "Epoch 20/300\n",
      "3/3 - 0s - loss: 1.1373 - accuracy: 0.4824 - val_loss: 1.1640 - val_accuracy: 0.3333 - 104ms/epoch - 35ms/step\n",
      "Epoch 21/300\n",
      "3/3 - 0s - loss: 1.1236 - accuracy: 0.5059 - val_loss: 1.1663 - val_accuracy: 0.3333 - 88ms/epoch - 29ms/step\n"
     ]
    },
    {
     "data": {
      "text/plain": "<Figure size 432x288 with 1 Axes>",
      "image/png": "[encoded data removed]"
     },
     "metadata": {
      "needs_background": "light"
     },
     "output_type": "display_data"
    }
   ],
   "source": [
    "model3 = tf.keras.Sequential([\n",
    "    tf.keras.layers.Embedding(1000, 21, input_length=20),\n",
    "    tf.keras.layers.Conv1D(256, 3, activation='relu'),\n",
    "    tf.keras.layers.GlobalMaxPooling1D(),\n",
    "    tf.keras.layers.Dropout(0.7),\n",
    "    tf.keras.layers.Dense(64, activation='relu'),\n",
    "    tf.keras.layers.Dense(4, activation='softmax')\n",
    "])\n",
    "\n",
    "# Set the training parameters\n",
    "model3.compile(loss=tf.keras.losses.SparseCategoricalCrossentropy(), optimizer='adam', metrics=['accuracy'])\n",
    "\n",
    "# Print the model summary\n",
    "history = model3.fit(feature_train,\n",
    "                    label_train,\n",
    "                    epochs=300,\n",
    "                    validation_data=(feature_test, label_test),\n",
    "                    verbose=2,\n",
    "                    callbacks=[callback])\n",
    "\n",
    "plot_graphs(history, 'loss')"
   ],
   "metadata": {
    "collapsed": false,
    "pycharm": {
     "name": "#%%\n"
    }
   }
  },
  {
   "cell_type": "code",
   "execution_count": 12,
   "outputs": [
    {
     "name": "stdout",
     "output_type": "stream",
     "text": [
      "1/1 [==============================] - 0s 39ms/step - loss: 1.1663 - accuracy: 0.3333\n",
      "1/1 [==============================] - 0s 128ms/step\n",
      "pred : [0.04705585 0.26802382 0.40117615 0.28374416] label : 2\n",
      "pred : [0.05067087 0.25654137 0.41648453 0.27630326] label : 2\n",
      "pred : [0.06407151 0.27177423 0.3921111  0.27204317] label : 3\n",
      "pred : [0.07162558 0.26579738 0.41193637 0.2506407 ] label : 3\n",
      "pred : [0.04524508 0.29091594 0.3981126  0.2657264 ] label : 1\n",
      "pred : [0.05227768 0.2479339  0.4222716  0.27751672] label : 1\n",
      "pred : [0.04248435 0.2687499  0.38193765 0.30682814] label : 0\n",
      "pred : [0.05625016 0.26269683 0.4090525  0.27200043] label : 2\n",
      "pred : [0.06436344 0.28847355 0.36361256 0.28355044] label : 1\n"
     ]
    }
   ],
   "source": [
    "score3 = model3.evaluate(feature_test, label_test)\n",
    "\n",
    "pred = model3.predict(feature_test)\n",
    "result = datas = {'pred':pred, 'true':label_test}\n",
    "for i in range(len(label_test)):\n",
    "    print('pred : {} label : {}'.format(pred[i], label[i]))"
   ],
   "metadata": {
    "collapsed": false,
    "pycharm": {
     "name": "#%%\n"
    }
   }
  },
  {
   "cell_type": "markdown",
   "source": [
    "SPARSE CATEGORICAL CROSSENTROPY 2"
   ],
   "metadata": {
    "collapsed": false,
    "pycharm": {
     "name": "#%% md\n"
    }
   }
  },
  {
   "cell_type": "code",
   "execution_count": 24,
   "outputs": [
    {
     "name": "stdout",
     "output_type": "stream",
     "text": [
      "Epoch 1/300\n",
      "3/3 - 10s - loss: 1.9395 - accuracy: 0.3529 - val_loss: 1.9371 - val_accuracy: 0.3333 - 10s/epoch - 3s/step\n",
      "Epoch 2/300\n",
      "3/3 - 0s - loss: 1.9178 - accuracy: 0.3647 - val_loss: 1.9255 - val_accuracy: 0.3333 - 150ms/epoch - 50ms/step\n",
      "Epoch 3/300\n",
      "3/3 - 0s - loss: 1.8825 - accuracy: 0.3412 - val_loss: 1.9064 - val_accuracy: 0.3333 - 160ms/epoch - 53ms/step\n",
      "Epoch 4/300\n",
      "3/3 - 0s - loss: 1.8442 - accuracy: 0.3647 - val_loss: 1.8827 - val_accuracy: 0.3333 - 143ms/epoch - 48ms/step\n",
      "Epoch 5/300\n",
      "3/3 - 0s - loss: 1.7927 - accuracy: 0.3765 - val_loss: 1.8659 - val_accuracy: 0.3333 - 151ms/epoch - 50ms/step\n",
      "Epoch 6/300\n",
      "3/3 - 0s - loss: 1.7357 - accuracy: 0.3647 - val_loss: 1.8760 - val_accuracy: 0.3333 - 298ms/epoch - 99ms/step\n",
      "Epoch 7/300\n",
      "3/3 - 0s - loss: 1.6671 - accuracy: 0.4118 - val_loss: 1.8639 - val_accuracy: 0.3333 - 184ms/epoch - 61ms/step\n",
      "Epoch 8/300\n",
      "3/3 - 0s - loss: 1.6831 - accuracy: 0.4000 - val_loss: 1.7565 - val_accuracy: 0.3333 - 180ms/epoch - 60ms/step\n",
      "Epoch 9/300\n",
      "3/3 - 0s - loss: 1.5367 - accuracy: 0.3882 - val_loss: 1.6945 - val_accuracy: 0.3333 - 243ms/epoch - 81ms/step\n",
      "Epoch 10/300\n",
      "3/3 - 0s - loss: 1.6211 - accuracy: 0.3176 - val_loss: 1.6406 - val_accuracy: 0.3333 - 175ms/epoch - 58ms/step\n",
      "Epoch 11/300\n",
      "3/3 - 0s - loss: 1.5134 - accuracy: 0.3529 - val_loss: 1.5821 - val_accuracy: 0.3333 - 205ms/epoch - 68ms/step\n",
      "Epoch 12/300\n",
      "3/3 - 0s - loss: 1.4555 - accuracy: 0.3529 - val_loss: 1.5389 - val_accuracy: 0.3333 - 153ms/epoch - 51ms/step\n",
      "Epoch 13/300\n",
      "3/3 - 0s - loss: 1.4282 - accuracy: 0.3647 - val_loss: 1.4655 - val_accuracy: 0.3333 - 204ms/epoch - 68ms/step\n",
      "Epoch 14/300\n",
      "3/3 - 0s - loss: 1.4540 - accuracy: 0.3294 - val_loss: 1.3855 - val_accuracy: 0.3333 - 152ms/epoch - 51ms/step\n",
      "Epoch 15/300\n",
      "3/3 - 0s - loss: 1.4148 - accuracy: 0.4000 - val_loss: 1.3137 - val_accuracy: 0.3333 - 135ms/epoch - 45ms/step\n",
      "Epoch 16/300\n",
      "3/3 - 0s - loss: 1.4553 - accuracy: 0.2588 - val_loss: 1.2756 - val_accuracy: 0.5556 - 138ms/epoch - 46ms/step\n",
      "Epoch 17/300\n",
      "3/3 - 0s - loss: 1.4147 - accuracy: 0.3412 - val_loss: 1.2478 - val_accuracy: 0.5556 - 178ms/epoch - 59ms/step\n",
      "Epoch 18/300\n",
      "3/3 - 0s - loss: 1.4199 - accuracy: 0.3176 - val_loss: 1.2350 - val_accuracy: 0.3333 - 184ms/epoch - 61ms/step\n",
      "Epoch 19/300\n",
      "3/3 - 0s - loss: 1.3643 - accuracy: 0.3882 - val_loss: 1.2320 - val_accuracy: 0.3333 - 157ms/epoch - 52ms/step\n",
      "Epoch 20/300\n",
      "3/3 - 0s - loss: 1.3654 - accuracy: 0.4000 - val_loss: 1.2446 - val_accuracy: 0.3333 - 186ms/epoch - 62ms/step\n",
      "Epoch 21/300\n",
      "3/3 - 0s - loss: 1.3812 - accuracy: 0.3529 - val_loss: 1.2535 - val_accuracy: 0.3333 - 153ms/epoch - 51ms/step\n",
      "Epoch 22/300\n",
      "3/3 - 0s - loss: 1.3531 - accuracy: 0.3529 - val_loss: 1.2471 - val_accuracy: 0.3333 - 142ms/epoch - 47ms/step\n"
     ]
    },
    {
     "data": {
      "text/plain": "<Figure size 432x288 with 1 Axes>",
      "image/png": "[encoded data removed]"
     },
     "metadata": {
      "needs_background": "light"
     },
     "output_type": "display_data"
    }
   ],
   "source": [
    "model4 = tf.keras.Sequential([\n",
    "    tf.keras.layers.Embedding(1000, 16, input_length=50),\n",
    "    tf.keras.layers.Bidirectional(tf.keras.layers.LSTM(64, return_sequences=True)),\n",
    "    tf.keras.layers.Bidirectional(tf.keras.layers.LSTM(32)),\n",
    "    tf.keras.layers.Dropout(0.7),\n",
    "    tf.keras.layers.Dense(16, activation='relu'),\n",
    "    tf.keras.layers.Dense(7, activation='softmax')\n",
    "])\n",
    "\n",
    "# Set the training parameters\n",
    "model4.compile(loss=tf.keras.losses.SparseCategoricalCrossentropy(), optimizer='adam', metrics=['accuracy'])\n",
    "\n",
    "# Print the model summary\n",
    "history = model4.fit(feature_train,\n",
    "                    label_train,\n",
    "                    epochs=300,\n",
    "                    validation_data=(feature_test, label_test),\n",
    "                    verbose=2,\n",
    "                    callbacks=[callback])\n",
    "\n",
    "plot_graphs(history, 'loss')"
   ],
   "metadata": {
    "collapsed": false,
    "pycharm": {
     "name": "#%%\n"
    }
   }
  },
  {
   "cell_type": "code",
   "execution_count": 12,
   "outputs": [
    {
     "name": "stdout",
     "output_type": "stream",
     "text": [
      "1/1 [==============================] - 0s 83ms/step - loss: 2.4589 - accuracy: 0.1111\n",
      "1/1 [==============================] - 2s 2s/step\n",
      "pred : 0 label : 6\n",
      "pred : 0 label : 7\n",
      "pred : 0 label : 8\n",
      "pred : 0 label : 8\n",
      "pred : 0 label : 5\n",
      "pred : 0 label : 4\n",
      "pred : 0 label : 3\n",
      "pred : 0 label : 7\n",
      "pred : 0 label : 5\n"
     ]
    }
   ],
   "source": [
    "score4 = model4.evaluate(feature_test, label_test)\n",
    "\n",
    "pred = model4.predict(feature_test)\n",
    "result = datas = {'pred':pred, 'true':label_test}\n",
    "for i in range(len(label_test)):\n",
    "    print('pred : {} label : {}'.format(round(pred[i][0]), label[i]))"
   ],
   "metadata": {
    "collapsed": false,
    "pycharm": {
     "name": "#%%\n"
    }
   }
  },
  {
   "cell_type": "markdown",
   "source": [
    "SPARSE CATEGORICAL CROSSENTROPY 3"
   ],
   "metadata": {
    "collapsed": false,
    "pycharm": {
     "name": "#%% md\n"
    }
   }
  },
  {
   "cell_type": "code",
   "execution_count": 13,
   "outputs": [
    {
     "name": "stdout",
     "output_type": "stream",
     "text": [
      "Epoch 1/300\n",
      "3/3 - 1s - loss: 2.4113 - accuracy: 0.0588 - val_loss: 2.4043 - val_accuracy: 0.1111 - 1s/epoch - 343ms/step\n",
      "Epoch 2/300\n",
      "3/3 - 0s - loss: 2.3995 - accuracy: 0.1176 - val_loss: 2.3994 - val_accuracy: 0.0000e+00 - 52ms/epoch - 17ms/step\n",
      "Epoch 3/300\n",
      "3/3 - 0s - loss: 2.3910 - accuracy: 0.1059 - val_loss: 2.3953 - val_accuracy: 0.0000e+00 - 54ms/epoch - 18ms/step\n",
      "Epoch 4/300\n",
      "3/3 - 0s - loss: 2.3828 - accuracy: 0.1882 - val_loss: 2.3906 - val_accuracy: 0.2222 - 47ms/epoch - 16ms/step\n",
      "Epoch 5/300\n",
      "3/3 - 0s - loss: 2.3767 - accuracy: 0.2471 - val_loss: 2.3871 - val_accuracy: 0.2222 - 48ms/epoch - 16ms/step\n",
      "Epoch 6/300\n",
      "3/3 - 0s - loss: 2.3715 - accuracy: 0.2471 - val_loss: 2.3842 - val_accuracy: 0.2222 - 49ms/epoch - 16ms/step\n",
      "Epoch 7/300\n",
      "3/3 - 0s - loss: 2.3660 - accuracy: 0.2471 - val_loss: 2.3814 - val_accuracy: 0.2222 - 50ms/epoch - 17ms/step\n",
      "Epoch 8/300\n",
      "3/3 - 0s - loss: 2.3600 - accuracy: 0.2471 - val_loss: 2.3784 - val_accuracy: 0.2222 - 41ms/epoch - 14ms/step\n",
      "Epoch 9/300\n",
      "3/3 - 0s - loss: 2.3533 - accuracy: 0.2471 - val_loss: 2.3753 - val_accuracy: 0.2222 - 39ms/epoch - 13ms/step\n",
      "Epoch 10/300\n",
      "3/3 - 0s - loss: 2.3471 - accuracy: 0.2471 - val_loss: 2.3719 - val_accuracy: 0.2222 - 50ms/epoch - 17ms/step\n",
      "Epoch 11/300\n",
      "3/3 - 0s - loss: 2.3388 - accuracy: 0.2471 - val_loss: 2.3689 - val_accuracy: 0.2222 - 49ms/epoch - 16ms/step\n",
      "Epoch 12/300\n",
      "3/3 - 0s - loss: 2.3310 - accuracy: 0.2471 - val_loss: 2.3657 - val_accuracy: 0.2222 - 41ms/epoch - 14ms/step\n",
      "Epoch 13/300\n",
      "3/3 - 0s - loss: 2.3232 - accuracy: 0.2471 - val_loss: 2.3622 - val_accuracy: 0.2222 - 37ms/epoch - 12ms/step\n",
      "Epoch 14/300\n",
      "3/3 - 0s - loss: 2.3144 - accuracy: 0.2471 - val_loss: 2.3587 - val_accuracy: 0.2222 - 42ms/epoch - 14ms/step\n",
      "Epoch 15/300\n",
      "3/3 - 0s - loss: 2.3049 - accuracy: 0.2471 - val_loss: 2.3549 - val_accuracy: 0.2222 - 41ms/epoch - 14ms/step\n",
      "Epoch 16/300\n",
      "3/3 - 0s - loss: 2.2954 - accuracy: 0.2471 - val_loss: 2.3518 - val_accuracy: 0.2222 - 41ms/epoch - 14ms/step\n",
      "Epoch 17/300\n",
      "3/3 - 0s - loss: 2.2851 - accuracy: 0.2471 - val_loss: 2.3482 - val_accuracy: 0.2222 - 45ms/epoch - 15ms/step\n",
      "Epoch 18/300\n",
      "3/3 - 0s - loss: 2.2747 - accuracy: 0.2471 - val_loss: 2.3437 - val_accuracy: 0.2222 - 53ms/epoch - 18ms/step\n",
      "Epoch 19/300\n",
      "3/3 - 0s - loss: 2.2621 - accuracy: 0.2471 - val_loss: 2.3389 - val_accuracy: 0.2222 - 43ms/epoch - 14ms/step\n",
      "Epoch 20/300\n",
      "3/3 - 0s - loss: 2.2516 - accuracy: 0.2471 - val_loss: 2.3343 - val_accuracy: 0.2222 - 38ms/epoch - 13ms/step\n",
      "Epoch 21/300\n",
      "3/3 - 0s - loss: 2.2384 - accuracy: 0.2471 - val_loss: 2.3303 - val_accuracy: 0.2222 - 40ms/epoch - 13ms/step\n",
      "Epoch 22/300\n",
      "3/3 - 0s - loss: 2.2253 - accuracy: 0.2471 - val_loss: 2.3261 - val_accuracy: 0.2222 - 47ms/epoch - 16ms/step\n",
      "Epoch 23/300\n",
      "3/3 - 0s - loss: 2.2134 - accuracy: 0.2471 - val_loss: 2.3220 - val_accuracy: 0.2222 - 43ms/epoch - 14ms/step\n",
      "Epoch 24/300\n",
      "3/3 - 0s - loss: 2.1995 - accuracy: 0.2471 - val_loss: 2.3187 - val_accuracy: 0.2222 - 47ms/epoch - 16ms/step\n",
      "Epoch 25/300\n",
      "3/3 - 0s - loss: 2.1889 - accuracy: 0.2471 - val_loss: 2.3159 - val_accuracy: 0.2222 - 38ms/epoch - 13ms/step\n",
      "Epoch 26/300\n",
      "3/3 - 0s - loss: 2.1758 - accuracy: 0.2471 - val_loss: 2.3137 - val_accuracy: 0.2222 - 46ms/epoch - 15ms/step\n",
      "Epoch 27/300\n",
      "3/3 - 0s - loss: 2.1641 - accuracy: 0.2471 - val_loss: 2.3115 - val_accuracy: 0.2222 - 50ms/epoch - 17ms/step\n",
      "Epoch 28/300\n",
      "3/3 - 0s - loss: 2.1523 - accuracy: 0.2471 - val_loss: 2.3096 - val_accuracy: 0.2222 - 50ms/epoch - 17ms/step\n",
      "Epoch 29/300\n",
      "3/3 - 0s - loss: 2.1424 - accuracy: 0.2471 - val_loss: 2.3083 - val_accuracy: 0.2222 - 42ms/epoch - 14ms/step\n",
      "Epoch 30/300\n",
      "3/3 - 0s - loss: 2.1315 - accuracy: 0.2471 - val_loss: 2.3071 - val_accuracy: 0.2222 - 41ms/epoch - 14ms/step\n",
      "Epoch 31/300\n",
      "3/3 - 0s - loss: 2.1218 - accuracy: 0.2471 - val_loss: 2.3062 - val_accuracy: 0.2222 - 58ms/epoch - 19ms/step\n",
      "Epoch 32/300\n",
      "3/3 - 0s - loss: 2.1122 - accuracy: 0.2471 - val_loss: 2.3054 - val_accuracy: 0.2222 - 49ms/epoch - 16ms/step\n",
      "Epoch 33/300\n",
      "3/3 - 0s - loss: 2.1048 - accuracy: 0.2471 - val_loss: 2.3048 - val_accuracy: 0.2222 - 44ms/epoch - 15ms/step\n",
      "Epoch 34/300\n",
      "3/3 - 0s - loss: 2.0957 - accuracy: 0.2588 - val_loss: 2.3031 - val_accuracy: 0.2222 - 47ms/epoch - 16ms/step\n",
      "Epoch 35/300\n",
      "3/3 - 0s - loss: 2.0868 - accuracy: 0.2588 - val_loss: 2.3014 - val_accuracy: 0.2222 - 43ms/epoch - 14ms/step\n",
      "Epoch 36/300\n",
      "3/3 - 0s - loss: 2.0781 - accuracy: 0.2588 - val_loss: 2.2985 - val_accuracy: 0.2222 - 48ms/epoch - 16ms/step\n",
      "Epoch 37/300\n",
      "3/3 - 0s - loss: 2.0701 - accuracy: 0.2706 - val_loss: 2.2951 - val_accuracy: 0.2222 - 43ms/epoch - 14ms/step\n",
      "Epoch 38/300\n",
      "3/3 - 0s - loss: 2.0618 - accuracy: 0.2706 - val_loss: 2.2931 - val_accuracy: 0.2222 - 52ms/epoch - 17ms/step\n",
      "Epoch 39/300\n",
      "3/3 - 0s - loss: 2.0539 - accuracy: 0.2706 - val_loss: 2.2895 - val_accuracy: 0.2222 - 38ms/epoch - 13ms/step\n",
      "Epoch 40/300\n",
      "3/3 - 0s - loss: 2.0444 - accuracy: 0.2706 - val_loss: 2.2841 - val_accuracy: 0.2222 - 40ms/epoch - 13ms/step\n",
      "Epoch 41/300\n",
      "3/3 - 0s - loss: 2.0362 - accuracy: 0.2706 - val_loss: 2.2794 - val_accuracy: 0.2222 - 41ms/epoch - 14ms/step\n",
      "Epoch 42/300\n",
      "3/3 - 0s - loss: 2.0271 - accuracy: 0.2706 - val_loss: 2.2752 - val_accuracy: 0.2222 - 49ms/epoch - 16ms/step\n",
      "Epoch 43/300\n",
      "3/3 - 0s - loss: 2.0194 - accuracy: 0.2824 - val_loss: 2.2711 - val_accuracy: 0.2222 - 410ms/epoch - 137ms/step\n",
      "Epoch 44/300\n",
      "3/3 - 0s - loss: 2.0103 - accuracy: 0.2824 - val_loss: 2.2681 - val_accuracy: 0.2222 - 50ms/epoch - 17ms/step\n",
      "Epoch 45/300\n",
      "3/3 - 0s - loss: 2.0012 - accuracy: 0.2824 - val_loss: 2.2637 - val_accuracy: 0.2222 - 44ms/epoch - 15ms/step\n",
      "Epoch 46/300\n",
      "3/3 - 0s - loss: 1.9931 - accuracy: 0.2824 - val_loss: 2.2580 - val_accuracy: 0.2222 - 42ms/epoch - 14ms/step\n",
      "Epoch 47/300\n",
      "3/3 - 0s - loss: 1.9846 - accuracy: 0.2824 - val_loss: 2.2523 - val_accuracy: 0.2222 - 30ms/epoch - 10ms/step\n",
      "Epoch 48/300\n",
      "3/3 - 0s - loss: 1.9767 - accuracy: 0.2824 - val_loss: 2.2486 - val_accuracy: 0.2222 - 31ms/epoch - 10ms/step\n",
      "Epoch 49/300\n",
      "3/3 - 0s - loss: 1.9681 - accuracy: 0.2824 - val_loss: 2.2457 - val_accuracy: 0.2222 - 30ms/epoch - 10ms/step\n",
      "Epoch 50/300\n",
      "3/3 - 0s - loss: 1.9592 - accuracy: 0.2824 - val_loss: 2.2441 - val_accuracy: 0.2222 - 31ms/epoch - 10ms/step\n",
      "Epoch 51/300\n",
      "3/3 - 0s - loss: 1.9514 - accuracy: 0.2941 - val_loss: 2.2423 - val_accuracy: 0.2222 - 34ms/epoch - 11ms/step\n",
      "Epoch 52/300\n",
      "3/3 - 0s - loss: 1.9426 - accuracy: 0.2941 - val_loss: 2.2406 - val_accuracy: 0.2222 - 29ms/epoch - 10ms/step\n",
      "Epoch 53/300\n",
      "3/3 - 0s - loss: 1.9344 - accuracy: 0.2941 - val_loss: 2.2380 - val_accuracy: 0.2222 - 29ms/epoch - 10ms/step\n",
      "Epoch 54/300\n",
      "3/3 - 0s - loss: 1.9266 - accuracy: 0.2941 - val_loss: 2.2356 - val_accuracy: 0.2222 - 28ms/epoch - 9ms/step\n",
      "Epoch 55/300\n",
      "3/3 - 0s - loss: 1.9183 - accuracy: 0.2941 - val_loss: 2.2327 - val_accuracy: 0.2222 - 30ms/epoch - 10ms/step\n",
      "Epoch 56/300\n",
      "3/3 - 0s - loss: 1.9097 - accuracy: 0.3176 - val_loss: 2.2286 - val_accuracy: 0.2222 - 28ms/epoch - 9ms/step\n",
      "Epoch 57/300\n",
      "3/3 - 0s - loss: 1.9012 - accuracy: 0.3176 - val_loss: 2.2252 - val_accuracy: 0.2222 - 33ms/epoch - 11ms/step\n",
      "Epoch 58/300\n",
      "3/3 - 0s - loss: 1.8932 - accuracy: 0.3294 - val_loss: 2.2243 - val_accuracy: 0.2222 - 30ms/epoch - 10ms/step\n",
      "Epoch 59/300\n",
      "3/3 - 0s - loss: 1.8852 - accuracy: 0.3294 - val_loss: 2.2245 - val_accuracy: 0.2222 - 33ms/epoch - 11ms/step\n",
      "Epoch 60/300\n",
      "3/3 - 0s - loss: 1.8760 - accuracy: 0.3294 - val_loss: 2.2215 - val_accuracy: 0.2222 - 34ms/epoch - 11ms/step\n",
      "Epoch 61/300\n",
      "3/3 - 0s - loss: 1.8686 - accuracy: 0.3294 - val_loss: 2.2214 - val_accuracy: 0.2222 - 32ms/epoch - 11ms/step\n",
      "Epoch 62/300\n",
      "3/3 - 0s - loss: 1.8601 - accuracy: 0.3412 - val_loss: 2.2190 - val_accuracy: 0.2222 - 29ms/epoch - 10ms/step\n",
      "Epoch 63/300\n",
      "3/3 - 0s - loss: 1.8518 - accuracy: 0.3412 - val_loss: 2.2189 - val_accuracy: 0.2222 - 40ms/epoch - 13ms/step\n",
      "Epoch 64/300\n",
      "3/3 - 0s - loss: 1.8434 - accuracy: 0.3529 - val_loss: 2.2187 - val_accuracy: 0.2222 - 32ms/epoch - 11ms/step\n",
      "Epoch 65/300\n",
      "3/3 - 0s - loss: 1.8355 - accuracy: 0.3647 - val_loss: 2.2194 - val_accuracy: 0.2222 - 30ms/epoch - 10ms/step\n",
      "Epoch 66/300\n",
      "3/3 - 0s - loss: 1.8269 - accuracy: 0.3647 - val_loss: 2.2170 - val_accuracy: 0.2222 - 37ms/epoch - 12ms/step\n",
      "Epoch 67/300\n",
      "3/3 - 0s - loss: 1.8177 - accuracy: 0.3647 - val_loss: 2.2176 - val_accuracy: 0.2222 - 29ms/epoch - 10ms/step\n",
      "Epoch 68/300\n",
      "3/3 - 0s - loss: 1.8102 - accuracy: 0.3647 - val_loss: 2.2179 - val_accuracy: 0.2222 - 30ms/epoch - 10ms/step\n",
      "Epoch 69/300\n",
      "3/3 - 0s - loss: 1.8021 - accuracy: 0.3647 - val_loss: 2.2167 - val_accuracy: 0.2222 - 30ms/epoch - 10ms/step\n",
      "Epoch 70/300\n",
      "3/3 - 0s - loss: 1.7935 - accuracy: 0.3765 - val_loss: 2.2159 - val_accuracy: 0.2222 - 30ms/epoch - 10ms/step\n",
      "Epoch 71/300\n",
      "3/3 - 0s - loss: 1.7834 - accuracy: 0.3765 - val_loss: 2.2161 - val_accuracy: 0.2222 - 30ms/epoch - 10ms/step\n",
      "Epoch 72/300\n",
      "3/3 - 0s - loss: 1.7746 - accuracy: 0.3882 - val_loss: 2.2167 - val_accuracy: 0.2222 - 30ms/epoch - 10ms/step\n",
      "Epoch 73/300\n",
      "3/3 - 0s - loss: 1.7657 - accuracy: 0.3882 - val_loss: 2.2178 - val_accuracy: 0.2222 - 37ms/epoch - 12ms/step\n"
     ]
    },
    {
     "data": {
      "text/plain": "<Figure size 432x288 with 1 Axes>",
      "image/png": "[encoded data removed]"
     },
     "metadata": {
      "needs_background": "light"
     },
     "output_type": "display_data"
    }
   ],
   "source": [
    "model5 = tf.keras.Sequential([\n",
    "    tf.keras.layers.Embedding(1000, 64, input_length=70),\n",
    "    tf.keras.layers.GlobalAveragePooling1D(),\n",
    "    tf.keras.layers.Dense(32, activation='relu'),\n",
    "    tf.keras.layers.Dense(11, activation='softmax')\n",
    "])\n",
    "\n",
    "# Set the training parameters\n",
    "model5.compile(loss=tf.keras.losses.SparseCategoricalCrossentropy(), optimizer='adam', metrics=['accuracy'])\n",
    "\n",
    "# Print the model summary\n",
    "history = model5.fit(feature_train,\n",
    "                    label_train,\n",
    "                    epochs=300,\n",
    "                    validation_data=(feature_test, label_test),\n",
    "                    verbose=2,\n",
    "                    callbacks=[callback])\n",
    "\n",
    "plot_graphs(history, 'loss')"
   ],
   "metadata": {
    "collapsed": false,
    "pycharm": {
     "name": "#%%\n"
    }
   }
  },
  {
   "cell_type": "code",
   "execution_count": 14,
   "outputs": [
    {
     "name": "stdout",
     "output_type": "stream",
     "text": [
      "1/1 [==============================] - 0s 38ms/step - loss: 2.2178 - accuracy: 0.2222\n",
      "WARNING:tensorflow:5 out of the last 5 calls to <function Model.make_predict_function.<locals>.predict_function at 0x000001E0467728B0> triggered tf.function retracing. Tracing is expensive and the excessive number of tracings could be due to (1) creating @tf.function repeatedly in a loop, (2) passing tensors with different shapes, (3) passing Python objects instead of tensors. For (1), please define your @tf.function outside of the loop. For (2), @tf.function has reduce_retracing=True option that can avoid unnecessary retracing. For (3), please refer to https://www.tensorflow.org/guide/function#controlling_retracing and https://www.tensorflow.org/api_docs/python/tf/function for  more details.\n",
      "1/1 [==============================] - 0s 61ms/step\n",
      "pred : 0 label : 6\n",
      "pred : 0 label : 7\n",
      "pred : 0 label : 8\n",
      "pred : 0 label : 8\n",
      "pred : 0 label : 5\n",
      "pred : 0 label : 4\n",
      "pred : 0 label : 3\n",
      "pred : 0 label : 7\n",
      "pred : 0 label : 5\n"
     ]
    }
   ],
   "source": [
    "score5 = model5.evaluate(feature_test, label_test)\n",
    "\n",
    "pred = model5.predict(feature_test)\n",
    "result = datas = {'pred':pred, 'true':label_test}\n",
    "for i in range(len(label_test)):\n",
    "    print('pred : {} label : {}'.format(round(pred[i][0]), label[i]))"
   ],
   "metadata": {
    "collapsed": false,
    "pycharm": {
     "name": "#%%\n"
    }
   }
  },
  {
   "cell_type": "markdown",
   "source": [
    "SKLEARN"
   ],
   "metadata": {
    "collapsed": false,
    "pycharm": {
     "name": "#%% md\n"
    }
   }
  },
  {
   "cell_type": "code",
   "execution_count": 32,
   "outputs": [],
   "source": [
    "X_train, X_test, y_train, y_test = train_test_split(df.loc[:, 'key'], df.loc[:, 'MD'], test_size=0.1, random_state=12)\n",
    "vectorizer = TfidfVectorizer(ngram_range=(1,2))\n",
    "# vectorizer = CountVectorizer(max_features=30000, ngram_range=(1,2))\n",
    "\n",
    "vectorizer.fit_transform(df['key'])\n",
    "train_data = vectorizer.transform(X_train)\n",
    "test_data = vectorizer.transform(X_test)"
   ],
   "metadata": {
    "collapsed": false,
    "pycharm": {
     "name": "#%%\n"
    }
   }
  },
  {
   "cell_type": "markdown",
   "source": [
    "LOGISTIC REGRESSION"
   ],
   "metadata": {
    "collapsed": false,
    "pycharm": {
     "name": "#%% md\n"
    }
   }
  },
  {
   "cell_type": "code",
   "execution_count": 33,
   "outputs": [
    {
     "name": "stdout",
     "output_type": "stream",
     "text": [
      "Pred : 1 True : 3\n",
      "\n",
      "Model score : 0.0\n",
      "              precision    recall  f1-score   support\n",
      "\n",
      "           1       0.00      0.00      0.00       0.0\n",
      "           3       0.00      0.00      0.00       1.0\n",
      "\n",
      "    accuracy                           0.00       1.0\n",
      "   macro avg       0.00      0.00      0.00       1.0\n",
      "weighted avg       0.00      0.00      0.00       1.0\n",
      "\n"
     ]
    },
    {
     "name": "stderr",
     "output_type": "stream",
     "text": [
      "C:\\Users\\sakur\\AppData\\Local\\Programs\\Python\\Python39\\lib\\site-packages\\sklearn\\metrics\\_classification.py:1327: UndefinedMetricWarning: Precision and F-score are ill-defined and being set to 0.0 in labels with no predicted samples. Use `zero_division` parameter to control this behavior.\n",
      "  _warn_prf(average, modifier, msg_start, len(result))\n",
      "C:\\Users\\sakur\\AppData\\Local\\Programs\\Python\\Python39\\lib\\site-packages\\sklearn\\metrics\\_classification.py:1327: UndefinedMetricWarning: Recall and F-score are ill-defined and being set to 0.0 in labels with no true samples. Use `zero_division` parameter to control this behavior.\n",
      "  _warn_prf(average, modifier, msg_start, len(result))\n",
      "C:\\Users\\sakur\\AppData\\Local\\Programs\\Python\\Python39\\lib\\site-packages\\sklearn\\metrics\\_classification.py:1327: UndefinedMetricWarning: Precision and F-score are ill-defined and being set to 0.0 in labels with no predicted samples. Use `zero_division` parameter to control this behavior.\n",
      "  _warn_prf(average, modifier, msg_start, len(result))\n",
      "C:\\Users\\sakur\\AppData\\Local\\Programs\\Python\\Python39\\lib\\site-packages\\sklearn\\metrics\\_classification.py:1327: UndefinedMetricWarning: Recall and F-score are ill-defined and being set to 0.0 in labels with no true samples. Use `zero_division` parameter to control this behavior.\n",
      "  _warn_prf(average, modifier, msg_start, len(result))\n",
      "C:\\Users\\sakur\\AppData\\Local\\Programs\\Python\\Python39\\lib\\site-packages\\sklearn\\metrics\\_classification.py:1327: UndefinedMetricWarning: Precision and F-score are ill-defined and being set to 0.0 in labels with no predicted samples. Use `zero_division` parameter to control this behavior.\n",
      "  _warn_prf(average, modifier, msg_start, len(result))\n",
      "C:\\Users\\sakur\\AppData\\Local\\Programs\\Python\\Python39\\lib\\site-packages\\sklearn\\metrics\\_classification.py:1327: UndefinedMetricWarning: Recall and F-score are ill-defined and being set to 0.0 in labels with no true samples. Use `zero_division` parameter to control this behavior.\n",
      "  _warn_prf(average, modifier, msg_start, len(result))\n"
     ]
    }
   ],
   "source": [
    "lr = LogisticRegression(solver='lbfgs', random_state=0)\n",
    "lr.fit(train_data, y_train)\n",
    "\n",
    "pred = lr.predict(test_data)\n",
    "lr_score = accuracy_score(y_test, pred)\n",
    "y_test = y_test.reset_index(drop=True)\n",
    "\n",
    "for i in range(len(pred)):\n",
    "    print(\"Pred : {} True : {}\".format(pred[i], y_test[i]))\n",
    "\n",
    "print('\\nModel score : {}'.format(lr_score))\n",
    "\n",
    "print(classification_report(y_test, pred))"
   ],
   "metadata": {
    "collapsed": false,
    "pycharm": {
     "name": "#%%\n"
    }
   }
  },
  {
   "cell_type": "markdown",
   "source": [
    "SGD REGRESSIONS"
   ],
   "metadata": {
    "collapsed": false,
    "pycharm": {
     "name": "#%% md\n"
    }
   }
  },
  {
   "cell_type": "code",
   "execution_count": 34,
   "outputs": [
    {
     "name": "stdout",
     "output_type": "stream",
     "text": [
      "Pred : 1 True : 3\n",
      "\n",
      "Model score : 0.0\n",
      "              precision    recall  f1-score   support\n",
      "\n",
      "           1       0.00      0.00      0.00       0.0\n",
      "           3       0.00      0.00      0.00       1.0\n",
      "\n",
      "    accuracy                           0.00       1.0\n",
      "   macro avg       0.00      0.00      0.00       1.0\n",
      "weighted avg       0.00      0.00      0.00       1.0\n",
      "\n"
     ]
    },
    {
     "name": "stderr",
     "output_type": "stream",
     "text": [
      "C:\\Users\\sakur\\AppData\\Local\\Programs\\Python\\Python39\\lib\\site-packages\\sklearn\\metrics\\_classification.py:1327: UndefinedMetricWarning: Precision and F-score are ill-defined and being set to 0.0 in labels with no predicted samples. Use `zero_division` parameter to control this behavior.\n",
      "  _warn_prf(average, modifier, msg_start, len(result))\n",
      "C:\\Users\\sakur\\AppData\\Local\\Programs\\Python\\Python39\\lib\\site-packages\\sklearn\\metrics\\_classification.py:1327: UndefinedMetricWarning: Recall and F-score are ill-defined and being set to 0.0 in labels with no true samples. Use `zero_division` parameter to control this behavior.\n",
      "  _warn_prf(average, modifier, msg_start, len(result))\n",
      "C:\\Users\\sakur\\AppData\\Local\\Programs\\Python\\Python39\\lib\\site-packages\\sklearn\\metrics\\_classification.py:1327: UndefinedMetricWarning: Precision and F-score are ill-defined and being set to 0.0 in labels with no predicted samples. Use `zero_division` parameter to control this behavior.\n",
      "  _warn_prf(average, modifier, msg_start, len(result))\n",
      "C:\\Users\\sakur\\AppData\\Local\\Programs\\Python\\Python39\\lib\\site-packages\\sklearn\\metrics\\_classification.py:1327: UndefinedMetricWarning: Recall and F-score are ill-defined and being set to 0.0 in labels with no true samples. Use `zero_division` parameter to control this behavior.\n",
      "  _warn_prf(average, modifier, msg_start, len(result))\n",
      "C:\\Users\\sakur\\AppData\\Local\\Programs\\Python\\Python39\\lib\\site-packages\\sklearn\\metrics\\_classification.py:1327: UndefinedMetricWarning: Precision and F-score are ill-defined and being set to 0.0 in labels with no predicted samples. Use `zero_division` parameter to control this behavior.\n",
      "  _warn_prf(average, modifier, msg_start, len(result))\n",
      "C:\\Users\\sakur\\AppData\\Local\\Programs\\Python\\Python39\\lib\\site-packages\\sklearn\\metrics\\_classification.py:1327: UndefinedMetricWarning: Recall and F-score are ill-defined and being set to 0.0 in labels with no true samples. Use `zero_division` parameter to control this behavior.\n",
      "  _warn_prf(average, modifier, msg_start, len(result))\n"
     ]
    }
   ],
   "source": [
    "sgd = SGDClassifier(loss='hinge', penalty='l2',\n",
    "                    alpha=0.0005, random_state=0,\n",
    "                    max_iter=50, tol=None)\n",
    "\n",
    "sgd.fit(train_data, y_train)\n",
    "\n",
    "pred = sgd.predict(test_data)\n",
    "sgd_score = accuracy_score(y_test, pred)\n",
    "y_test = y_test.reset_index(drop=True)\n",
    "\n",
    "for i in range(len(pred)):\n",
    "    print(\"Pred : {} True : {}\".format(pred[i], y_test[i]))\n",
    "\n",
    "print('\\nModel score : {}'.format(sgd_score))\n",
    "\n",
    "print(classification_report(y_test, pred))"
   ],
   "metadata": {
    "collapsed": false,
    "pycharm": {
     "name": "#%%\n"
    }
   }
  },
  {
   "cell_type": "markdown",
   "source": [
    "NAIVE BAYES"
   ],
   "metadata": {
    "collapsed": false,
    "pycharm": {
     "name": "#%% md\n"
    }
   }
  },
  {
   "cell_type": "code",
   "execution_count": 35,
   "outputs": [
    {
     "name": "stdout",
     "output_type": "stream",
     "text": [
      "Pred : 3 True : 3\n",
      "\n",
      "Model score : 1.0\n",
      "              precision    recall  f1-score   support\n",
      "\n",
      "           3       1.00      1.00      1.00         1\n",
      "\n",
      "    accuracy                           1.00         1\n",
      "   macro avg       1.00      1.00      1.00         1\n",
      "weighted avg       1.00      1.00      1.00         1\n",
      "\n"
     ]
    }
   ],
   "source": [
    "nb = MultinomialNB(alpha=0.001)\n",
    "nb.fit(train_data, y_train)\n",
    "\n",
    "pred = nb.predict(test_data)\n",
    "nb_score = accuracy_score(y_test, pred)\n",
    "y_test = y_test.reset_index(drop=True)\n",
    "\n",
    "for i in range(len(pred)):\n",
    "    print(\"Pred : {} True : {}\".format(pred[i], y_test[i]))\n",
    "\n",
    "print('\\nModel score : {}'.format(nb_score))\n",
    "\n",
    "print(classification_report(y_test, pred))"
   ],
   "metadata": {
    "collapsed": false,
    "pycharm": {
     "name": "#%%\n"
    }
   }
  },
  {
   "cell_type": "markdown",
   "source": [
    "RANDOM FOREST"
   ],
   "metadata": {
    "collapsed": false,
    "pycharm": {
     "name": "#%% md\n"
    }
   }
  },
  {
   "cell_type": "code",
   "execution_count": 36,
   "outputs": [
    {
     "name": "stdout",
     "output_type": "stream",
     "text": [
      "Pred : 3 True : 3\n",
      "\n",
      "Model score : 1.0\n",
      "              precision    recall  f1-score   support\n",
      "\n",
      "           3       1.00      1.00      1.00         1\n",
      "\n",
      "    accuracy                           1.00         1\n",
      "   macro avg       1.00      1.00      1.00         1\n",
      "weighted avg       1.00      1.00      1.00         1\n",
      "\n"
     ]
    }
   ],
   "source": [
    "rf = RandomForestClassifier()\n",
    "rf.fit(train_data, y_train)\n",
    "\n",
    "pred = rf.predict(test_data)\n",
    "rf_score = accuracy_score(y_test, pred)\n",
    "y_test = y_test.reset_index(drop=True)\n",
    "\n",
    "for i in range(len(pred)):\n",
    "    print(\"Pred : {} True : {}\".format(pred[i], y_test[i]))\n",
    "\n",
    "print('\\nModel score : {}'.format(rf_score))\n",
    "\n",
    "print(classification_report(y_test, pred))"
   ],
   "metadata": {
    "collapsed": false,
    "pycharm": {
     "name": "#%%\n"
    }
   }
  },
  {
   "cell_type": "markdown",
   "source": [
    "GRADIENT BOOSTING"
   ],
   "metadata": {
    "collapsed": false,
    "pycharm": {
     "name": "#%% md\n"
    }
   }
  },
  {
   "cell_type": "code",
   "execution_count": 37,
   "outputs": [
    {
     "name": "stdout",
     "output_type": "stream",
     "text": [
      "Pred : 3 True : 3\n",
      "\n",
      "Model score : 1.0\n"
     ]
    }
   ],
   "source": [
    "gb = GradientBoostingClassifier()\n",
    "gb.fit(train_data, y_train)\n",
    "\n",
    "pred = gb.predict(test_data)\n",
    "gb_score = accuracy_score(y_test, pred)\n",
    "y_test = y_test.reset_index(drop=True)\n",
    "\n",
    "for i in range(len(pred)):\n",
    "    print(\"Pred : {} True : {}\".format(pred[i], y_test[i]))\n",
    "\n",
    "print('\\nModel score : {}'.format(gb_score))"
   ],
   "metadata": {
    "collapsed": false,
    "pycharm": {
     "name": "#%%\n"
    }
   }
  },
  {
   "cell_type": "markdown",
   "source": [
    "DECISION TREE"
   ],
   "metadata": {
    "collapsed": false,
    "pycharm": {
     "name": "#%% md\n"
    }
   }
  },
  {
   "cell_type": "code",
   "execution_count": 38,
   "outputs": [
    {
     "name": "stdout",
     "output_type": "stream",
     "text": [
      "Pred : 3 True : 3\n",
      "\n",
      "Model score : 1.0\n"
     ]
    }
   ],
   "source": [
    "dt = DecisionTreeClassifier(criterion='gini')\n",
    "dt.fit(train_data, y_train)\n",
    "\n",
    "pred = dt.predict(test_data)\n",
    "dt_score = accuracy_score(y_test, pred)\n",
    "y_test = y_test.reset_index(drop=True)\n",
    "\n",
    "for i in range(len(pred)):\n",
    "    print(\"Pred : {} True : {}\".format(pred[i], y_test[i]))\n",
    "\n",
    "print('\\nModel score : {}'.format(dt_score))"
   ],
   "metadata": {
    "collapsed": false,
    "pycharm": {
     "name": "#%%\n"
    }
   }
  },
  {
   "cell_type": "markdown",
   "source": [
    "K NEAREST NEIGHBORS"
   ],
   "metadata": {
    "collapsed": false,
    "pycharm": {
     "name": "#%% md\n"
    }
   }
  },
  {
   "cell_type": "code",
   "execution_count": 39,
   "outputs": [
    {
     "name": "stdout",
     "output_type": "stream",
     "text": [
      "Pred : 1 True : 3\n",
      "\n",
      "Model score : 0.0\n"
     ]
    }
   ],
   "source": [
    "knn = KNeighborsClassifier(8, weights='uniform')\n",
    "knn.fit(train_data, y_train)\n",
    "\n",
    "pred = knn.predict(test_data)\n",
    "knn_score = accuracy_score(y_test, pred)\n",
    "y_test = y_test.reset_index(drop=True)\n",
    "\n",
    "for i in range(len(pred)):\n",
    "    print(\"Pred : {} True : {}\".format(pred[i], y_test[i]))\n",
    "\n",
    "print('\\nModel score : {}'.format(knn_score))"
   ],
   "metadata": {
    "collapsed": false,
    "pycharm": {
     "name": "#%%\n"
    }
   }
  }
 ],
 "metadata": {
  "kernelspec": {
   "display_name": "Python 3",
   "language": "python",
   "name": "python3"
  },
  "language_info": {
   "codemirror_mode": {
    "name": "ipython",
    "version": 2
   },
   "file_extension": ".py",
   "mimetype": "text/x-python",
   "name": "python",
   "nbconvert_exporter": "python",
   "pygments_lexer": "ipython2",
   "version": "2.7.6"
  }
 },
 "nbformat": 4,
 "nbformat_minor": 0
}